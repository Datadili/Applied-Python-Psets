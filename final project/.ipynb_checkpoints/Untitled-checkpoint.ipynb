{
 "cells": [
  {
   "cell_type": "code",
   "execution_count": null,
   "id": "434d8426",
   "metadata": {},
   "outputs": [],
   "source": [
    "#to login in\n",
    "login_email = \"dmrfqother@gmail.com\"\n",
    "login_password = \"GlobalPython2024\""
   ]
  },
  {
   "cell_type": "code",
   "execution_count": 5,
   "id": "8fffa49c",
   "metadata": {},
   "outputs": [],
   "source": [
    "from bs4 import BeautifulSoup\n",
    "#import requests\n",
    "from selenium import webdriver\n",
    "from selenium.webdriver import Chrome, ChromeOptions\n",
    "from selenium.webdriver.common.by import By\n",
    "from selenium.webdriver.common.keys import Keys\n",
    "import time"
   ]
  },
  {
   "cell_type": "code",
   "execution_count": 65,
   "id": "7c88481c",
   "metadata": {},
   "outputs": [
    {
     "ename": "NoSuchElementException",
     "evalue": "Message: no such element: Unable to locate element: {\"method\":\"link text\",\"selector\":\"Last month\"}\n  (Session info: chrome=122.0.6261.112); For documentation on this error, please visit: https://www.selenium.dev/documentation/webdriver/troubleshooting/errors#no-such-element-exception\nStacktrace:\n0   chromedriver                        0x0000000100df8508 chromedriver + 3966216\n1   chromedriver                        0x0000000100df0a94 chromedriver + 3934868\n2   chromedriver                        0x0000000100a73da0 chromedriver + 277920\n3   chromedriver                        0x0000000100ab6394 chromedriver + 549780\n4   chromedriver                        0x0000000100aeebf0 chromedriver + 781296\n5   chromedriver                        0x0000000100aaafb0 chromedriver + 503728\n6   chromedriver                        0x0000000100aaba28 chromedriver + 506408\n7   chromedriver                        0x0000000100dbd6f0 chromedriver + 3725040\n8   chromedriver                        0x0000000100dc1be4 chromedriver + 3742692\n9   chromedriver                        0x0000000100da61d8 chromedriver + 3629528\n10  chromedriver                        0x0000000100dc26e0 chromedriver + 3745504\n11  chromedriver                        0x0000000100d99550 chromedriver + 3577168\n12  chromedriver                        0x0000000100de0f40 chromedriver + 3870528\n13  chromedriver                        0x0000000100de10e4 chromedriver + 3870948\n14  chromedriver                        0x0000000100df0704 chromedriver + 3933956\n15  libsystem_pthread.dylib             0x0000000182da2034 _pthread_start + 136\n16  libsystem_pthread.dylib             0x0000000182d9ce3c thread_start + 8\n",
     "output_type": "error",
     "traceback": [
      "\u001b[0;31m---------------------------------------------------------------------------\u001b[0m",
      "\u001b[0;31mNoSuchElementException\u001b[0m                    Traceback (most recent call last)",
      "Cell \u001b[0;32mIn[65], line 26\u001b[0m\n\u001b[1;32m     22\u001b[0m search_bar\u001b[38;5;241m.\u001b[39msubmit()\n\u001b[1;32m     24\u001b[0m \u001b[38;5;66;03m#select most recent\u001b[39;00m\n\u001b[1;32m     25\u001b[0m \u001b[38;5;66;03m#most_recent = driver.find_element(By.XPATH, '//*[@id=\"left-column\"]/div[1]/div/div[2]/ul/li[2]/button')\u001b[39;00m\n\u001b[0;32m---> 26\u001b[0m most_recent \u001b[38;5;241m=\u001b[39m \u001b[43mdriver\u001b[49m\u001b[38;5;241;43m.\u001b[39;49m\u001b[43mfind_element\u001b[49m\u001b[43m(\u001b[49m\u001b[43mBy\u001b[49m\u001b[38;5;241;43m.\u001b[39;49m\u001b[43mLINK_TEXT\u001b[49m\u001b[43m,\u001b[49m\u001b[43m \u001b[49m\u001b[38;5;124;43m'\u001b[39;49m\u001b[38;5;124;43mLast month\u001b[39;49m\u001b[38;5;124;43m'\u001b[39;49m\u001b[43m)\u001b[49m\n\u001b[1;32m     27\u001b[0m most_recent\u001b[38;5;241m.\u001b[39mclick()\n",
      "File \u001b[0;32m~/anaconda3/lib/python3.10/site-packages/selenium/webdriver/remote/webdriver.py:741\u001b[0m, in \u001b[0;36mWebDriver.find_element\u001b[0;34m(self, by, value)\u001b[0m\n\u001b[1;32m    738\u001b[0m     by \u001b[38;5;241m=\u001b[39m By\u001b[38;5;241m.\u001b[39mCSS_SELECTOR\n\u001b[1;32m    739\u001b[0m     value \u001b[38;5;241m=\u001b[39m \u001b[38;5;124mf\u001b[39m\u001b[38;5;124m'\u001b[39m\u001b[38;5;124m[name=\u001b[39m\u001b[38;5;124m\"\u001b[39m\u001b[38;5;132;01m{\u001b[39;00mvalue\u001b[38;5;132;01m}\u001b[39;00m\u001b[38;5;124m\"\u001b[39m\u001b[38;5;124m]\u001b[39m\u001b[38;5;124m'\u001b[39m\n\u001b[0;32m--> 741\u001b[0m \u001b[38;5;28;01mreturn\u001b[39;00m \u001b[38;5;28;43mself\u001b[39;49m\u001b[38;5;241;43m.\u001b[39;49m\u001b[43mexecute\u001b[49m\u001b[43m(\u001b[49m\u001b[43mCommand\u001b[49m\u001b[38;5;241;43m.\u001b[39;49m\u001b[43mFIND_ELEMENT\u001b[49m\u001b[43m,\u001b[49m\u001b[43m \u001b[49m\u001b[43m{\u001b[49m\u001b[38;5;124;43m\"\u001b[39;49m\u001b[38;5;124;43musing\u001b[39;49m\u001b[38;5;124;43m\"\u001b[39;49m\u001b[43m:\u001b[49m\u001b[43m \u001b[49m\u001b[43mby\u001b[49m\u001b[43m,\u001b[49m\u001b[43m \u001b[49m\u001b[38;5;124;43m\"\u001b[39;49m\u001b[38;5;124;43mvalue\u001b[39;49m\u001b[38;5;124;43m\"\u001b[39;49m\u001b[43m:\u001b[49m\u001b[43m \u001b[49m\u001b[43mvalue\u001b[49m\u001b[43m}\u001b[49m\u001b[43m)\u001b[49m[\u001b[38;5;124m\"\u001b[39m\u001b[38;5;124mvalue\u001b[39m\u001b[38;5;124m\"\u001b[39m]\n",
      "File \u001b[0;32m~/anaconda3/lib/python3.10/site-packages/selenium/webdriver/remote/webdriver.py:347\u001b[0m, in \u001b[0;36mWebDriver.execute\u001b[0;34m(self, driver_command, params)\u001b[0m\n\u001b[1;32m    345\u001b[0m response \u001b[38;5;241m=\u001b[39m \u001b[38;5;28mself\u001b[39m\u001b[38;5;241m.\u001b[39mcommand_executor\u001b[38;5;241m.\u001b[39mexecute(driver_command, params)\n\u001b[1;32m    346\u001b[0m \u001b[38;5;28;01mif\u001b[39;00m response:\n\u001b[0;32m--> 347\u001b[0m     \u001b[38;5;28;43mself\u001b[39;49m\u001b[38;5;241;43m.\u001b[39;49m\u001b[43merror_handler\u001b[49m\u001b[38;5;241;43m.\u001b[39;49m\u001b[43mcheck_response\u001b[49m\u001b[43m(\u001b[49m\u001b[43mresponse\u001b[49m\u001b[43m)\u001b[49m\n\u001b[1;32m    348\u001b[0m     response[\u001b[38;5;124m\"\u001b[39m\u001b[38;5;124mvalue\u001b[39m\u001b[38;5;124m\"\u001b[39m] \u001b[38;5;241m=\u001b[39m \u001b[38;5;28mself\u001b[39m\u001b[38;5;241m.\u001b[39m_unwrap_value(response\u001b[38;5;241m.\u001b[39mget(\u001b[38;5;124m\"\u001b[39m\u001b[38;5;124mvalue\u001b[39m\u001b[38;5;124m\"\u001b[39m, \u001b[38;5;28;01mNone\u001b[39;00m))\n\u001b[1;32m    349\u001b[0m     \u001b[38;5;28;01mreturn\u001b[39;00m response\n",
      "File \u001b[0;32m~/anaconda3/lib/python3.10/site-packages/selenium/webdriver/remote/errorhandler.py:229\u001b[0m, in \u001b[0;36mErrorHandler.check_response\u001b[0;34m(self, response)\u001b[0m\n\u001b[1;32m    227\u001b[0m         alert_text \u001b[38;5;241m=\u001b[39m value[\u001b[38;5;124m\"\u001b[39m\u001b[38;5;124malert\u001b[39m\u001b[38;5;124m\"\u001b[39m]\u001b[38;5;241m.\u001b[39mget(\u001b[38;5;124m\"\u001b[39m\u001b[38;5;124mtext\u001b[39m\u001b[38;5;124m\"\u001b[39m)\n\u001b[1;32m    228\u001b[0m     \u001b[38;5;28;01mraise\u001b[39;00m exception_class(message, screen, stacktrace, alert_text)  \u001b[38;5;66;03m# type: ignore[call-arg]  # mypy is not smart enough here\u001b[39;00m\n\u001b[0;32m--> 229\u001b[0m \u001b[38;5;28;01mraise\u001b[39;00m exception_class(message, screen, stacktrace)\n",
      "\u001b[0;31mNoSuchElementException\u001b[0m: Message: no such element: Unable to locate element: {\"method\":\"link text\",\"selector\":\"Last month\"}\n  (Session info: chrome=122.0.6261.112); For documentation on this error, please visit: https://www.selenium.dev/documentation/webdriver/troubleshooting/errors#no-such-element-exception\nStacktrace:\n0   chromedriver                        0x0000000100df8508 chromedriver + 3966216\n1   chromedriver                        0x0000000100df0a94 chromedriver + 3934868\n2   chromedriver                        0x0000000100a73da0 chromedriver + 277920\n3   chromedriver                        0x0000000100ab6394 chromedriver + 549780\n4   chromedriver                        0x0000000100aeebf0 chromedriver + 781296\n5   chromedriver                        0x0000000100aaafb0 chromedriver + 503728\n6   chromedriver                        0x0000000100aaba28 chromedriver + 506408\n7   chromedriver                        0x0000000100dbd6f0 chromedriver + 3725040\n8   chromedriver                        0x0000000100dc1be4 chromedriver + 3742692\n9   chromedriver                        0x0000000100da61d8 chromedriver + 3629528\n10  chromedriver                        0x0000000100dc26e0 chromedriver + 3745504\n11  chromedriver                        0x0000000100d99550 chromedriver + 3577168\n12  chromedriver                        0x0000000100de0f40 chromedriver + 3870528\n13  chromedriver                        0x0000000100de10e4 chromedriver + 3870948\n14  chromedriver                        0x0000000100df0704 chromedriver + 3933956\n15  libsystem_pthread.dylib             0x0000000182da2034 _pthread_start + 136\n16  libsystem_pthread.dylib             0x0000000182d9ce3c thread_start + 8\n"
     ]
    }
   ],
   "source": [
    "url = \"https://www.glassdoor.com/sitedirectory/company-jobs.htm\"\n",
    "\n",
    "chrome_options = ChromeOptions()\n",
    "# Set Chrome options to run in headless mode\n",
    "#chrome_options.add_argument('--headless')\n",
    "\n",
    "# Initialize the Chrome driver with the specified options\n",
    "driver = webdriver.Chrome(options=chrome_options)\n",
    "driver.get(url)\n",
    "\n",
    "#click on jobs\n",
    "jobs = driver.find_element(By.LINK_TEXT, \"Jobs\")\n",
    "jobs.click()\n",
    "\n",
    "#find the search bar\n",
    "search_bar = driver.find_element(By.XPATH, '//*[@id=\"searchBar-jobTitle\"]')\n",
    "\n",
    "#insert \"entry level economics\"\n",
    "search_bar.send_keys(\"entry level economics\")\n",
    "\n",
    "#submit\n",
    "search_bar.submit()\n",
    "\n",
    "#select most recent\n",
    "#most_recent = driver.find_element(By.XPATH, '//*[@id=\"left-column\"]/div[1]/div/div[2]/ul/li[2]/button')\n",
    "most_recent = driver.find_element(By.LINK_TEXT, 'Last month')\n",
    "most_recent.click()"
   ]
  },
  {
   "cell_type": "code",
   "execution_count": 64,
   "id": "eedabbcd",
   "metadata": {},
   "outputs": [
    {
     "ename": "NoSuchWindowException",
     "evalue": "Message: no such window: target window already closed\nfrom unknown error: web view not found\n  (Session info: chrome=122.0.6261.112)\nStacktrace:\n0   chromedriver                        0x0000000103070508 chromedriver + 3966216\n1   chromedriver                        0x0000000103068a94 chromedriver + 3934868\n2   chromedriver                        0x0000000102cebda0 chromedriver + 277920\n3   chromedriver                        0x0000000102cc6fb0 chromedriver + 126896\n4   chromedriver                        0x0000000102d53414 chromedriver + 701460\n5   chromedriver                        0x0000000102d66304 chromedriver + 779012\n6   chromedriver                        0x0000000102d22fb0 chromedriver + 503728\n7   chromedriver                        0x0000000102d23a28 chromedriver + 506408\n8   chromedriver                        0x00000001030356f0 chromedriver + 3725040\n9   chromedriver                        0x0000000103039be4 chromedriver + 3742692\n10  chromedriver                        0x000000010301e1d8 chromedriver + 3629528\n11  chromedriver                        0x000000010303a6e0 chromedriver + 3745504\n12  chromedriver                        0x0000000103011550 chromedriver + 3577168\n13  chromedriver                        0x0000000103058f40 chromedriver + 3870528\n14  chromedriver                        0x00000001030590e4 chromedriver + 3870948\n15  chromedriver                        0x0000000103068704 chromedriver + 3933956\n16  libsystem_pthread.dylib             0x0000000182da2034 _pthread_start + 136\n17  libsystem_pthread.dylib             0x0000000182d9ce3c thread_start + 8\n",
     "output_type": "error",
     "traceback": [
      "\u001b[0;31m---------------------------------------------------------------------------\u001b[0m",
      "\u001b[0;31mNoSuchWindowException\u001b[0m                     Traceback (most recent call last)",
      "Cell \u001b[0;32mIn[64], line 2\u001b[0m\n\u001b[1;32m      1\u001b[0m \u001b[38;5;66;03m#most_recent = driver.find_element(By.XPATH, '//*[@id=\"left-column\"]/div[1]/div/div[2]/ul/li[2]/button')\u001b[39;00m\n\u001b[0;32m----> 2\u001b[0m most_recent \u001b[38;5;241m=\u001b[39m \u001b[43mdriver\u001b[49m\u001b[38;5;241;43m.\u001b[39;49m\u001b[43mfind_element\u001b[49m\u001b[43m(\u001b[49m\u001b[43mBy\u001b[49m\u001b[38;5;241;43m.\u001b[39;49m\u001b[43mLINK_TEXT\u001b[49m\u001b[43m,\u001b[49m\u001b[43m \u001b[49m\u001b[38;5;124;43m'\u001b[39;49m\u001b[38;5;124;43mLast month\u001b[39;49m\u001b[38;5;124;43m'\u001b[39;49m\u001b[43m)\u001b[49m\n\u001b[1;32m      3\u001b[0m most_recent\u001b[38;5;241m.\u001b[39mclick()\n",
      "File \u001b[0;32m~/anaconda3/lib/python3.10/site-packages/selenium/webdriver/remote/webdriver.py:741\u001b[0m, in \u001b[0;36mWebDriver.find_element\u001b[0;34m(self, by, value)\u001b[0m\n\u001b[1;32m    738\u001b[0m     by \u001b[38;5;241m=\u001b[39m By\u001b[38;5;241m.\u001b[39mCSS_SELECTOR\n\u001b[1;32m    739\u001b[0m     value \u001b[38;5;241m=\u001b[39m \u001b[38;5;124mf\u001b[39m\u001b[38;5;124m'\u001b[39m\u001b[38;5;124m[name=\u001b[39m\u001b[38;5;124m\"\u001b[39m\u001b[38;5;132;01m{\u001b[39;00mvalue\u001b[38;5;132;01m}\u001b[39;00m\u001b[38;5;124m\"\u001b[39m\u001b[38;5;124m]\u001b[39m\u001b[38;5;124m'\u001b[39m\n\u001b[0;32m--> 741\u001b[0m \u001b[38;5;28;01mreturn\u001b[39;00m \u001b[38;5;28;43mself\u001b[39;49m\u001b[38;5;241;43m.\u001b[39;49m\u001b[43mexecute\u001b[49m\u001b[43m(\u001b[49m\u001b[43mCommand\u001b[49m\u001b[38;5;241;43m.\u001b[39;49m\u001b[43mFIND_ELEMENT\u001b[49m\u001b[43m,\u001b[49m\u001b[43m \u001b[49m\u001b[43m{\u001b[49m\u001b[38;5;124;43m\"\u001b[39;49m\u001b[38;5;124;43musing\u001b[39;49m\u001b[38;5;124;43m\"\u001b[39;49m\u001b[43m:\u001b[49m\u001b[43m \u001b[49m\u001b[43mby\u001b[49m\u001b[43m,\u001b[49m\u001b[43m \u001b[49m\u001b[38;5;124;43m\"\u001b[39;49m\u001b[38;5;124;43mvalue\u001b[39;49m\u001b[38;5;124;43m\"\u001b[39;49m\u001b[43m:\u001b[49m\u001b[43m \u001b[49m\u001b[43mvalue\u001b[49m\u001b[43m}\u001b[49m\u001b[43m)\u001b[49m[\u001b[38;5;124m\"\u001b[39m\u001b[38;5;124mvalue\u001b[39m\u001b[38;5;124m\"\u001b[39m]\n",
      "File \u001b[0;32m~/anaconda3/lib/python3.10/site-packages/selenium/webdriver/remote/webdriver.py:347\u001b[0m, in \u001b[0;36mWebDriver.execute\u001b[0;34m(self, driver_command, params)\u001b[0m\n\u001b[1;32m    345\u001b[0m response \u001b[38;5;241m=\u001b[39m \u001b[38;5;28mself\u001b[39m\u001b[38;5;241m.\u001b[39mcommand_executor\u001b[38;5;241m.\u001b[39mexecute(driver_command, params)\n\u001b[1;32m    346\u001b[0m \u001b[38;5;28;01mif\u001b[39;00m response:\n\u001b[0;32m--> 347\u001b[0m     \u001b[38;5;28;43mself\u001b[39;49m\u001b[38;5;241;43m.\u001b[39;49m\u001b[43merror_handler\u001b[49m\u001b[38;5;241;43m.\u001b[39;49m\u001b[43mcheck_response\u001b[49m\u001b[43m(\u001b[49m\u001b[43mresponse\u001b[49m\u001b[43m)\u001b[49m\n\u001b[1;32m    348\u001b[0m     response[\u001b[38;5;124m\"\u001b[39m\u001b[38;5;124mvalue\u001b[39m\u001b[38;5;124m\"\u001b[39m] \u001b[38;5;241m=\u001b[39m \u001b[38;5;28mself\u001b[39m\u001b[38;5;241m.\u001b[39m_unwrap_value(response\u001b[38;5;241m.\u001b[39mget(\u001b[38;5;124m\"\u001b[39m\u001b[38;5;124mvalue\u001b[39m\u001b[38;5;124m\"\u001b[39m, \u001b[38;5;28;01mNone\u001b[39;00m))\n\u001b[1;32m    349\u001b[0m     \u001b[38;5;28;01mreturn\u001b[39;00m response\n",
      "File \u001b[0;32m~/anaconda3/lib/python3.10/site-packages/selenium/webdriver/remote/errorhandler.py:229\u001b[0m, in \u001b[0;36mErrorHandler.check_response\u001b[0;34m(self, response)\u001b[0m\n\u001b[1;32m    227\u001b[0m         alert_text \u001b[38;5;241m=\u001b[39m value[\u001b[38;5;124m\"\u001b[39m\u001b[38;5;124malert\u001b[39m\u001b[38;5;124m\"\u001b[39m]\u001b[38;5;241m.\u001b[39mget(\u001b[38;5;124m\"\u001b[39m\u001b[38;5;124mtext\u001b[39m\u001b[38;5;124m\"\u001b[39m)\n\u001b[1;32m    228\u001b[0m     \u001b[38;5;28;01mraise\u001b[39;00m exception_class(message, screen, stacktrace, alert_text)  \u001b[38;5;66;03m# type: ignore[call-arg]  # mypy is not smart enough here\u001b[39;00m\n\u001b[0;32m--> 229\u001b[0m \u001b[38;5;28;01mraise\u001b[39;00m exception_class(message, screen, stacktrace)\n",
      "\u001b[0;31mNoSuchWindowException\u001b[0m: Message: no such window: target window already closed\nfrom unknown error: web view not found\n  (Session info: chrome=122.0.6261.112)\nStacktrace:\n0   chromedriver                        0x0000000103070508 chromedriver + 3966216\n1   chromedriver                        0x0000000103068a94 chromedriver + 3934868\n2   chromedriver                        0x0000000102cebda0 chromedriver + 277920\n3   chromedriver                        0x0000000102cc6fb0 chromedriver + 126896\n4   chromedriver                        0x0000000102d53414 chromedriver + 701460\n5   chromedriver                        0x0000000102d66304 chromedriver + 779012\n6   chromedriver                        0x0000000102d22fb0 chromedriver + 503728\n7   chromedriver                        0x0000000102d23a28 chromedriver + 506408\n8   chromedriver                        0x00000001030356f0 chromedriver + 3725040\n9   chromedriver                        0x0000000103039be4 chromedriver + 3742692\n10  chromedriver                        0x000000010301e1d8 chromedriver + 3629528\n11  chromedriver                        0x000000010303a6e0 chromedriver + 3745504\n12  chromedriver                        0x0000000103011550 chromedriver + 3577168\n13  chromedriver                        0x0000000103058f40 chromedriver + 3870528\n14  chromedriver                        0x00000001030590e4 chromedriver + 3870948\n15  chromedriver                        0x0000000103068704 chromedriver + 3933956\n16  libsystem_pthread.dylib             0x0000000182da2034 _pthread_start + 136\n17  libsystem_pthread.dylib             0x0000000182d9ce3c thread_start + 8\n"
     ]
    }
   ],
   "source": [
    "#most_recent = driver.find_element(By.XPATH, '//*[@id=\"left-column\"]/div[1]/div/div[2]/ul/li[2]/button')\n",
    "most_recent = driver.find_element(By.LINK_TEXT, 'Last month')\n",
    "most_recent.click()"
   ]
  },
  {
   "cell_type": "code",
   "execution_count": null,
   "id": "626a7b53",
   "metadata": {},
   "outputs": [],
   "source": []
  }
 ],
 "metadata": {
  "kernelspec": {
   "display_name": "Python 3 (ipykernel)",
   "language": "python",
   "name": "python3"
  },
  "language_info": {
   "codemirror_mode": {
    "name": "ipython",
    "version": 3
   },
   "file_extension": ".py",
   "mimetype": "text/x-python",
   "name": "python",
   "nbconvert_exporter": "python",
   "pygments_lexer": "ipython3",
   "version": "3.10.9"
  }
 },
 "nbformat": 4,
 "nbformat_minor": 5
}
