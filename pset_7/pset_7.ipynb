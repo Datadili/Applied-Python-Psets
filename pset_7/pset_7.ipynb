{
 "cells": [
  {
   "cell_type": "markdown",
   "metadata": {
    "id": "PJ6eW22LJM_n"
   },
   "source": [
    "# HW 7:\n",
    "This homework we are going to start with a dataset ingest, some cleaning and some visualizations. Then move to Streamlit"
   ]
  },
  {
   "cell_type": "markdown",
   "metadata": {
    "id": "qPXtYV6tLA7v"
   },
   "source": [
    "## US Census Data"
   ]
  },
  {
   "cell_type": "markdown",
   "metadata": {
    "id": "xHx4uFrkJQTE"
   },
   "source": [
    "Load the data posted on the github repo \"us-population-2010-2019.csv\""
   ]
  },
  {
   "cell_type": "code",
   "execution_count": null,
   "metadata": {
    "is_executing": true
   },
   "outputs": [],
   "source": [
    "# Your code here:\n",
    "import pandas as pd\n",
    "df = pd.read_csv(\"us-population-2010-2019-states-code.csv\")\n",
    "df.head()"
   ]
  },
  {
   "cell_type": "markdown",
   "metadata": {},
   "source": [
    "Using a lambda function, add a column to the dataframe that provides standard two letter abbreviations to all of the US States. For example, Connecticut would be CT.\n",
    "https://www.50states.com/abbreviations.htm\n",
    "*hint* there is a python package called \"us\""
   ]
  },
  {
   "cell_type": "code",
   "execution_count": 124,
   "metadata": {},
   "outputs": [
    {
     "data": {
      "text/html": [
       "<div>\n",
       "<style scoped>\n",
       "    .dataframe tbody tr th:only-of-type {\n",
       "        vertical-align: middle;\n",
       "    }\n",
       "\n",
       "    .dataframe tbody tr th {\n",
       "        vertical-align: top;\n",
       "    }\n",
       "\n",
       "    .dataframe thead th {\n",
       "        text-align: right;\n",
       "    }\n",
       "</style>\n",
       "<table border=\"1\" class=\"dataframe\">\n",
       "  <thead>\n",
       "    <tr style=\"text-align: right;\">\n",
       "      <th></th>\n",
       "      <th>states</th>\n",
       "      <th>states_code</th>\n",
       "      <th>id</th>\n",
       "      <th>2010</th>\n",
       "      <th>2011</th>\n",
       "      <th>2012</th>\n",
       "      <th>2013</th>\n",
       "      <th>2014</th>\n",
       "      <th>2015</th>\n",
       "      <th>2016</th>\n",
       "      <th>2017</th>\n",
       "      <th>2018</th>\n",
       "      <th>2019</th>\n",
       "      <th>state_abbv</th>\n",
       "    </tr>\n",
       "  </thead>\n",
       "  <tbody>\n",
       "    <tr>\n",
       "      <th>0</th>\n",
       "      <td>Alabama</td>\n",
       "      <td>AL</td>\n",
       "      <td>1</td>\n",
       "      <td>4,785,437</td>\n",
       "      <td>4,799,069</td>\n",
       "      <td>4,815,588</td>\n",
       "      <td>4,830,081</td>\n",
       "      <td>4,841,799</td>\n",
       "      <td>4,852,347</td>\n",
       "      <td>4,863,525</td>\n",
       "      <td>4,874,486</td>\n",
       "      <td>4,887,681</td>\n",
       "      <td>4,903,185</td>\n",
       "      <td>AL</td>\n",
       "    </tr>\n",
       "    <tr>\n",
       "      <th>1</th>\n",
       "      <td>Alaska</td>\n",
       "      <td>AK</td>\n",
       "      <td>2</td>\n",
       "      <td>713,910</td>\n",
       "      <td>722,128</td>\n",
       "      <td>730,443</td>\n",
       "      <td>737,068</td>\n",
       "      <td>736,283</td>\n",
       "      <td>737,498</td>\n",
       "      <td>741,456</td>\n",
       "      <td>739,700</td>\n",
       "      <td>735,139</td>\n",
       "      <td>731,545</td>\n",
       "      <td>AK</td>\n",
       "    </tr>\n",
       "    <tr>\n",
       "      <th>2</th>\n",
       "      <td>Arizona</td>\n",
       "      <td>AZ</td>\n",
       "      <td>4</td>\n",
       "      <td>6,407,172</td>\n",
       "      <td>6,472,643</td>\n",
       "      <td>6,554,978</td>\n",
       "      <td>6,632,764</td>\n",
       "      <td>6,730,413</td>\n",
       "      <td>6,829,676</td>\n",
       "      <td>6,941,072</td>\n",
       "      <td>7,044,008</td>\n",
       "      <td>7,158,024</td>\n",
       "      <td>7,278,717</td>\n",
       "      <td>AZ</td>\n",
       "    </tr>\n",
       "    <tr>\n",
       "      <th>3</th>\n",
       "      <td>Arkansas</td>\n",
       "      <td>AR</td>\n",
       "      <td>5</td>\n",
       "      <td>2,921,964</td>\n",
       "      <td>2,940,667</td>\n",
       "      <td>2,952,164</td>\n",
       "      <td>2,959,400</td>\n",
       "      <td>2,967,392</td>\n",
       "      <td>2,978,048</td>\n",
       "      <td>2,989,918</td>\n",
       "      <td>3,001,345</td>\n",
       "      <td>3,009,733</td>\n",
       "      <td>3,017,804</td>\n",
       "      <td>AR</td>\n",
       "    </tr>\n",
       "    <tr>\n",
       "      <th>4</th>\n",
       "      <td>California</td>\n",
       "      <td>CA</td>\n",
       "      <td>6</td>\n",
       "      <td>37,319,502</td>\n",
       "      <td>37,638,369</td>\n",
       "      <td>37,948,800</td>\n",
       "      <td>38,260,787</td>\n",
       "      <td>38,596,972</td>\n",
       "      <td>38,918,045</td>\n",
       "      <td>39,167,117</td>\n",
       "      <td>39,358,497</td>\n",
       "      <td>39,461,588</td>\n",
       "      <td>39,512,223</td>\n",
       "      <td>CA</td>\n",
       "    </tr>\n",
       "  </tbody>\n",
       "</table>\n",
       "</div>"
      ],
      "text/plain": [
       "       states states_code  id        2010        2011        2012        2013  \\\n",
       "0     Alabama          AL   1   4,785,437   4,799,069   4,815,588   4,830,081   \n",
       "1      Alaska          AK   2     713,910     722,128     730,443     737,068   \n",
       "2     Arizona          AZ   4   6,407,172   6,472,643   6,554,978   6,632,764   \n",
       "3    Arkansas          AR   5   2,921,964   2,940,667   2,952,164   2,959,400   \n",
       "4  California          CA   6  37,319,502  37,638,369  37,948,800  38,260,787   \n",
       "\n",
       "         2014        2015        2016        2017        2018        2019  \\\n",
       "0   4,841,799   4,852,347   4,863,525   4,874,486   4,887,681   4,903,185   \n",
       "1     736,283     737,498     741,456     739,700     735,139     731,545   \n",
       "2   6,730,413   6,829,676   6,941,072   7,044,008   7,158,024   7,278,717   \n",
       "3   2,967,392   2,978,048   2,989,918   3,001,345   3,009,733   3,017,804   \n",
       "4  38,596,972  38,918,045  39,167,117  39,358,497  39,461,588  39,512,223   \n",
       "\n",
       "  state_abbv  \n",
       "0         AL  \n",
       "1         AK  \n",
       "2         AZ  \n",
       "3         AR  \n",
       "4         CA  "
      ]
     },
     "execution_count": 124,
     "metadata": {},
     "output_type": "execute_result"
    }
   ],
   "source": [
    "#Your code here\n",
    "#!pip install us\n",
    "import us\n",
    "\n",
    "df[\"state_abbv\"]= df[\"states\"].apply(lambda x: us.states.lookup(x).abbr if us.states.lookup(x) != None else None)\n",
    "\n",
    "df.head()"
   ]
  },
  {
   "cell_type": "markdown",
   "metadata": {},
   "source": [
    "Reshape your data, and create a new df called df_reshaped so that:\n",
    "\n",
    "1. Convert 'year' column values to integers\n",
    "2. Convert 'states' to strings\n",
    "3. Get rid of the commas in the population numbers, and convert them to integers\n",
    "4. Check your df_reshaped "
   ]
  },
  {
   "cell_type": "code",
   "execution_count": 125,
   "metadata": {},
   "outputs": [
    {
     "data": {
      "text/html": [
       "<div>\n",
       "<style scoped>\n",
       "    .dataframe tbody tr th:only-of-type {\n",
       "        vertical-align: middle;\n",
       "    }\n",
       "\n",
       "    .dataframe tbody tr th {\n",
       "        vertical-align: top;\n",
       "    }\n",
       "\n",
       "    .dataframe thead th {\n",
       "        text-align: right;\n",
       "    }\n",
       "</style>\n",
       "<table border=\"1\" class=\"dataframe\">\n",
       "  <thead>\n",
       "    <tr style=\"text-align: right;\">\n",
       "      <th></th>\n",
       "      <th>id</th>\n",
       "      <th>states</th>\n",
       "      <th>states_code</th>\n",
       "      <th>state_abbv</th>\n",
       "      <th>year</th>\n",
       "      <th>population</th>\n",
       "    </tr>\n",
       "  </thead>\n",
       "  <tbody>\n",
       "    <tr>\n",
       "      <th>0</th>\n",
       "      <td>1</td>\n",
       "      <td>Alabama</td>\n",
       "      <td>AL</td>\n",
       "      <td>AL</td>\n",
       "      <td>2010</td>\n",
       "      <td>4785437</td>\n",
       "    </tr>\n",
       "    <tr>\n",
       "      <th>1</th>\n",
       "      <td>2</td>\n",
       "      <td>Alaska</td>\n",
       "      <td>AK</td>\n",
       "      <td>AK</td>\n",
       "      <td>2010</td>\n",
       "      <td>713910</td>\n",
       "    </tr>\n",
       "    <tr>\n",
       "      <th>2</th>\n",
       "      <td>4</td>\n",
       "      <td>Arizona</td>\n",
       "      <td>AZ</td>\n",
       "      <td>AZ</td>\n",
       "      <td>2010</td>\n",
       "      <td>6407172</td>\n",
       "    </tr>\n",
       "    <tr>\n",
       "      <th>3</th>\n",
       "      <td>5</td>\n",
       "      <td>Arkansas</td>\n",
       "      <td>AR</td>\n",
       "      <td>AR</td>\n",
       "      <td>2010</td>\n",
       "      <td>2921964</td>\n",
       "    </tr>\n",
       "    <tr>\n",
       "      <th>4</th>\n",
       "      <td>6</td>\n",
       "      <td>California</td>\n",
       "      <td>CA</td>\n",
       "      <td>CA</td>\n",
       "      <td>2010</td>\n",
       "      <td>37319502</td>\n",
       "    </tr>\n",
       "  </tbody>\n",
       "</table>\n",
       "</div>"
      ],
      "text/plain": [
       "   id      states states_code state_abbv  year  population\n",
       "0   1     Alabama          AL         AL  2010     4785437\n",
       "1   2      Alaska          AK         AK  2010      713910\n",
       "2   4     Arizona          AZ         AZ  2010     6407172\n",
       "3   5    Arkansas          AR         AR  2010     2921964\n",
       "4   6  California          CA         CA  2010    37319502"
      ]
     },
     "execution_count": 125,
     "metadata": {},
     "output_type": "execute_result"
    }
   ],
   "source": [
    "# Your code here:\n",
    "#using melt instead of wide to long...\n",
    "df_reshaped=pd.melt(df,id_vars=['id','states','states_code','state_abbv'],value_name='population',var_name='year')\n",
    "\n",
    "#change year to int format\n",
    "df_reshaped['year']=df_reshaped['year'].astype(int)\n",
    "\n",
    "#replace \",\" with nothing and then format as integer\n",
    "df_reshaped['population']=df_reshaped['population'].apply(lambda x: x.replace(\",\", \"\"))\n",
    "df_reshaped['population']=df_reshaped['population'].astype(int)\n",
    "\n",
    "#change states to string\n",
    "df_reshaped['states']=df_reshaped['states'].astype(str)\n",
    "df_reshaped.head()"
   ]
  },
  {
   "cell_type": "markdown",
   "metadata": {},
   "source": [
    "Save your df_reshaped to a csv file"
   ]
  },
  {
   "cell_type": "code",
   "execution_count": 74,
   "metadata": {},
   "outputs": [],
   "source": [
    "#Your code here:\n",
    "\n",
    "#do not include index\n",
    "df_reshaped.to_csv(\"df_reshaped.csv\", index=False)"
   ]
  },
  {
   "cell_type": "markdown",
   "metadata": {},
   "source": [
    "Subset your dataframe by selected_year = 2019 year create a new dataframe called df_selected_year\n"
   ]
  },
  {
   "cell_type": "code",
   "execution_count": 76,
   "metadata": {},
   "outputs": [
    {
     "data": {
      "text/html": [
       "<div>\n",
       "<style scoped>\n",
       "    .dataframe tbody tr th:only-of-type {\n",
       "        vertical-align: middle;\n",
       "    }\n",
       "\n",
       "    .dataframe tbody tr th {\n",
       "        vertical-align: top;\n",
       "    }\n",
       "\n",
       "    .dataframe thead th {\n",
       "        text-align: right;\n",
       "    }\n",
       "</style>\n",
       "<table border=\"1\" class=\"dataframe\">\n",
       "  <thead>\n",
       "    <tr style=\"text-align: right;\">\n",
       "      <th></th>\n",
       "      <th>id</th>\n",
       "      <th>states</th>\n",
       "      <th>states_code</th>\n",
       "      <th>state_abbv</th>\n",
       "      <th>year</th>\n",
       "      <th>population</th>\n",
       "    </tr>\n",
       "  </thead>\n",
       "  <tbody>\n",
       "    <tr>\n",
       "      <th>468</th>\n",
       "      <td>1</td>\n",
       "      <td>Alabama</td>\n",
       "      <td>AL</td>\n",
       "      <td>AL</td>\n",
       "      <td>2019</td>\n",
       "      <td>4903185</td>\n",
       "    </tr>\n",
       "    <tr>\n",
       "      <th>469</th>\n",
       "      <td>2</td>\n",
       "      <td>Alaska</td>\n",
       "      <td>AK</td>\n",
       "      <td>AK</td>\n",
       "      <td>2019</td>\n",
       "      <td>731545</td>\n",
       "    </tr>\n",
       "    <tr>\n",
       "      <th>470</th>\n",
       "      <td>4</td>\n",
       "      <td>Arizona</td>\n",
       "      <td>AZ</td>\n",
       "      <td>AZ</td>\n",
       "      <td>2019</td>\n",
       "      <td>7278717</td>\n",
       "    </tr>\n",
       "    <tr>\n",
       "      <th>471</th>\n",
       "      <td>5</td>\n",
       "      <td>Arkansas</td>\n",
       "      <td>AR</td>\n",
       "      <td>AR</td>\n",
       "      <td>2019</td>\n",
       "      <td>3017804</td>\n",
       "    </tr>\n",
       "    <tr>\n",
       "      <th>472</th>\n",
       "      <td>6</td>\n",
       "      <td>California</td>\n",
       "      <td>CA</td>\n",
       "      <td>CA</td>\n",
       "      <td>2019</td>\n",
       "      <td>39512223</td>\n",
       "    </tr>\n",
       "  </tbody>\n",
       "</table>\n",
       "</div>"
      ],
      "text/plain": [
       "     id      states states_code state_abbv  year  population\n",
       "468   1     Alabama          AL         AL  2019     4903185\n",
       "469   2      Alaska          AK         AK  2019      731545\n",
       "470   4     Arizona          AZ         AZ  2019     7278717\n",
       "471   5    Arkansas          AR         AR  2019     3017804\n",
       "472   6  California          CA         CA  2019    39512223"
      ]
     },
     "execution_count": 76,
     "metadata": {},
     "output_type": "execute_result"
    }
   ],
   "source": [
    "#Your code here:\n",
    "df_selected_year = df_reshaped[df_reshaped['year'] == 2019]\n",
    "df_selected_year.head()"
   ]
  },
  {
   "cell_type": "markdown",
   "metadata": {},
   "source": [
    "Sort df_selected_year by population, from highest to lowest, and create a new df called \"df_selected_year_sorted\""
   ]
  },
  {
   "cell_type": "code",
   "execution_count": 85,
   "metadata": {},
   "outputs": [
    {
     "data": {
      "text/html": [
       "<div>\n",
       "<style scoped>\n",
       "    .dataframe tbody tr th:only-of-type {\n",
       "        vertical-align: middle;\n",
       "    }\n",
       "\n",
       "    .dataframe tbody tr th {\n",
       "        vertical-align: top;\n",
       "    }\n",
       "\n",
       "    .dataframe thead th {\n",
       "        text-align: right;\n",
       "    }\n",
       "</style>\n",
       "<table border=\"1\" class=\"dataframe\">\n",
       "  <thead>\n",
       "    <tr style=\"text-align: right;\">\n",
       "      <th></th>\n",
       "      <th>id</th>\n",
       "      <th>states</th>\n",
       "      <th>states_code</th>\n",
       "      <th>state_abbv</th>\n",
       "      <th>year</th>\n",
       "      <th>population</th>\n",
       "    </tr>\n",
       "  </thead>\n",
       "  <tbody>\n",
       "    <tr>\n",
       "      <th>472</th>\n",
       "      <td>6</td>\n",
       "      <td>California</td>\n",
       "      <td>CA</td>\n",
       "      <td>CA</td>\n",
       "      <td>2019</td>\n",
       "      <td>39512223</td>\n",
       "    </tr>\n",
       "    <tr>\n",
       "      <th>511</th>\n",
       "      <td>48</td>\n",
       "      <td>Texas</td>\n",
       "      <td>TX</td>\n",
       "      <td>TX</td>\n",
       "      <td>2019</td>\n",
       "      <td>28995881</td>\n",
       "    </tr>\n",
       "    <tr>\n",
       "      <th>477</th>\n",
       "      <td>12</td>\n",
       "      <td>Florida</td>\n",
       "      <td>FL</td>\n",
       "      <td>FL</td>\n",
       "      <td>2019</td>\n",
       "      <td>21477737</td>\n",
       "    </tr>\n",
       "    <tr>\n",
       "      <th>500</th>\n",
       "      <td>36</td>\n",
       "      <td>New York</td>\n",
       "      <td>NY</td>\n",
       "      <td>NY</td>\n",
       "      <td>2019</td>\n",
       "      <td>19453561</td>\n",
       "    </tr>\n",
       "    <tr>\n",
       "      <th>506</th>\n",
       "      <td>42</td>\n",
       "      <td>Pennsylvania</td>\n",
       "      <td>PA</td>\n",
       "      <td>PA</td>\n",
       "      <td>2019</td>\n",
       "      <td>12801989</td>\n",
       "    </tr>\n",
       "  </tbody>\n",
       "</table>\n",
       "</div>"
      ],
      "text/plain": [
       "     id        states states_code state_abbv  year  population\n",
       "472   6    California          CA         CA  2019    39512223\n",
       "511  48         Texas          TX         TX  2019    28995881\n",
       "477  12       Florida          FL         FL  2019    21477737\n",
       "500  36      New York          NY         NY  2019    19453561\n",
       "506  42  Pennsylvania          PA         PA  2019    12801989"
      ]
     },
     "execution_count": 85,
     "metadata": {},
     "output_type": "execute_result"
    }
   ],
   "source": [
    "#Your code here:\n",
    "df_selected_year_sorted = df_selected_year.sort_values(by =\"population\", ascending = False)\n",
    "df_selected_year_sorted.head()"
   ]
  },
  {
   "cell_type": "code",
   "execution_count": 89,
   "metadata": {
    "colab": {
     "base_uri": "https://localhost:8080/",
     "height": 1000
    },
    "id": "JM8sxDepnwMG",
    "outputId": "f123e0f1-b1a2-4a41-b4c0-420b70fe5a53"
   },
   "outputs": [
    {
     "data": {
      "text/html": [
       "<div>\n",
       "<style scoped>\n",
       "    .dataframe tbody tr th:only-of-type {\n",
       "        vertical-align: middle;\n",
       "    }\n",
       "\n",
       "    .dataframe tbody tr th {\n",
       "        vertical-align: top;\n",
       "    }\n",
       "\n",
       "    .dataframe thead th {\n",
       "        text-align: right;\n",
       "    }\n",
       "</style>\n",
       "<table border=\"1\" class=\"dataframe\">\n",
       "  <thead>\n",
       "    <tr style=\"text-align: right;\">\n",
       "      <th></th>\n",
       "      <th>states</th>\n",
       "      <th>id</th>\n",
       "      <th>population</th>\n",
       "      <th>population_difference</th>\n",
       "      <th>population_difference_absolute</th>\n",
       "    </tr>\n",
       "  </thead>\n",
       "  <tbody>\n",
       "    <tr>\n",
       "      <th>43</th>\n",
       "      <td>Texas</td>\n",
       "      <td>48</td>\n",
       "      <td>28995881</td>\n",
       "      <td>367215</td>\n",
       "      <td>367215</td>\n",
       "    </tr>\n",
       "    <tr>\n",
       "      <th>9</th>\n",
       "      <td>Florida</td>\n",
       "      <td>12</td>\n",
       "      <td>21477737</td>\n",
       "      <td>233420</td>\n",
       "      <td>233420</td>\n",
       "    </tr>\n",
       "    <tr>\n",
       "      <th>2</th>\n",
       "      <td>Arizona</td>\n",
       "      <td>4</td>\n",
       "      <td>7278717</td>\n",
       "      <td>120693</td>\n",
       "      <td>120693</td>\n",
       "    </tr>\n",
       "    <tr>\n",
       "      <th>33</th>\n",
       "      <td>North Carolina</td>\n",
       "      <td>37</td>\n",
       "      <td>10488084</td>\n",
       "      <td>106469</td>\n",
       "      <td>106469</td>\n",
       "    </tr>\n",
       "    <tr>\n",
       "      <th>10</th>\n",
       "      <td>Georgia</td>\n",
       "      <td>13</td>\n",
       "      <td>10617423</td>\n",
       "      <td>106292</td>\n",
       "      <td>106292</td>\n",
       "    </tr>\n",
       "  </tbody>\n",
       "</table>\n",
       "</div>"
      ],
      "text/plain": [
       "            states  id  population  population_difference  \\\n",
       "43           Texas  48    28995881                 367215   \n",
       "9          Florida  12    21477737                 233420   \n",
       "2          Arizona   4     7278717                 120693   \n",
       "33  North Carolina  37    10488084                 106469   \n",
       "10         Georgia  13    10617423                 106292   \n",
       "\n",
       "    population_difference_absolute  \n",
       "43                          367215  \n",
       "9                           233420  \n",
       "2                           120693  \n",
       "33                          106469  \n",
       "10                          106292  "
      ]
     },
     "execution_count": 89,
     "metadata": {},
     "output_type": "execute_result"
    }
   ],
   "source": [
    "# Here is a function to calculate population difference between selected and previous year\n",
    "def calculate_population_difference(input_df, input_year):\n",
    "    selected_year_data = input_df[input_df['year'] == input_year].reset_index()\n",
    "    previous_year_data = input_df[input_df['year'] == input_year - 1].reset_index()\n",
    "    selected_year_data['population_difference'] = selected_year_data.population.sub(previous_year_data.population, fill_value=0)\n",
    "    selected_year_data['population_difference_absolute'] = abs(selected_year_data['population_difference'])\n",
    "    return pd.concat([selected_year_data.states, selected_year_data.id, selected_year_data.population, selected_year_data.population_difference, selected_year_data.population_difference_absolute], axis=1).sort_values(by=\"population_difference\", ascending=False)\n",
    "\n",
    "#(Dili's edit: put in random year, show first 5 values)\n",
    "df_population_difference_sorted = calculate_population_difference(df_reshaped, 2019)\n",
    "df_population_difference_sorted.head()"
   ]
  },
  {
   "cell_type": "code",
   "execution_count": 104,
   "metadata": {
    "colab": {
     "base_uri": "https://localhost:8080/",
     "height": 488
    },
    "id": "kjtiLBxV6cNq",
    "outputId": "3989fa48-8d64-4114-d3cd-63c07daf4127"
   },
   "outputs": [],
   "source": [
    "# Filter states with population difference > 50000\n",
    "#Your code here\n",
    "df_pop_diff = calculate_population_difference(df_reshaped, 2019)\n",
    "df_greater_50000 = df_pop_diff[df_pop_diff.apply(lambda x: x['population_difference'] > 50000, axis = 1)]"
   ]
  },
  {
   "cell_type": "code",
   "execution_count": 107,
   "metadata": {
    "colab": {
     "base_uri": "https://localhost:8080/"
    },
    "id": "085JORge7E2N",
    "outputId": "ec84f197-5224-42f4-97f2-e880fab8219e"
   },
   "outputs": [
    {
     "data": {
      "text/plain": [
       "0.24"
      ]
     },
     "execution_count": 107,
     "metadata": {},
     "output_type": "execute_result"
    }
   ],
   "source": [
    "# Calculate the % of States with population difference > 50000\n",
    "#Your code here:\n",
    "\n",
    "#number of states divided by the total number\n",
    "len(df_greater_50000)/50"
   ]
  },
  {
   "cell_type": "markdown",
   "metadata": {
    "id": "GnY0jA7irX1Z"
   },
   "source": [
    "## Plots"
   ]
  },
  {
   "cell_type": "markdown",
   "metadata": {
    "id": "hRrwBt3skrp1"
   },
   "source": [
    "### Heatmap: run the following code to see a heatmap"
   ]
  },
  {
   "cell_type": "code",
   "execution_count": 123,
   "metadata": {
    "colab": {
     "base_uri": "https://localhost:8080/",
     "height": 375
    },
    "id": "Vf8v9OjMku8M",
    "outputId": "901a9b29-439c-4fe3-9a53-0a52ad366a94"
   },
   "outputs": [
    {
     "data": {
      "text/html": [
       "\n",
       "<style>\n",
       "  #altair-viz-38286a0ca5294380bd50b5d9d9d653d3.vega-embed {\n",
       "    width: 100%;\n",
       "    display: flex;\n",
       "  }\n",
       "\n",
       "  #altair-viz-38286a0ca5294380bd50b5d9d9d653d3.vega-embed details,\n",
       "  #altair-viz-38286a0ca5294380bd50b5d9d9d653d3.vega-embed details summary {\n",
       "    position: relative;\n",
       "  }\n",
       "</style>\n",
       "<div id=\"altair-viz-38286a0ca5294380bd50b5d9d9d653d3\"></div>\n",
       "<script type=\"text/javascript\">\n",
       "  var VEGA_DEBUG = (typeof VEGA_DEBUG == \"undefined\") ? {} : VEGA_DEBUG;\n",
       "  (function(spec, embedOpt){\n",
       "    let outputDiv = document.currentScript.previousElementSibling;\n",
       "    if (outputDiv.id !== \"altair-viz-38286a0ca5294380bd50b5d9d9d653d3\") {\n",
       "      outputDiv = document.getElementById(\"altair-viz-38286a0ca5294380bd50b5d9d9d653d3\");\n",
       "    }\n",
       "    const paths = {\n",
       "      \"vega\": \"https://cdn.jsdelivr.net/npm/vega@5?noext\",\n",
       "      \"vega-lib\": \"https://cdn.jsdelivr.net/npm/vega-lib?noext\",\n",
       "      \"vega-lite\": \"https://cdn.jsdelivr.net/npm/vega-lite@5.17.0?noext\",\n",
       "      \"vega-embed\": \"https://cdn.jsdelivr.net/npm/vega-embed@6?noext\",\n",
       "    };\n",
       "\n",
       "    function maybeLoadScript(lib, version) {\n",
       "      var key = `${lib.replace(\"-\", \"\")}_version`;\n",
       "      return (VEGA_DEBUG[key] == version) ?\n",
       "        Promise.resolve(paths[lib]) :\n",
       "        new Promise(function(resolve, reject) {\n",
       "          var s = document.createElement('script');\n",
       "          document.getElementsByTagName(\"head\")[0].appendChild(s);\n",
       "          s.async = true;\n",
       "          s.onload = () => {\n",
       "            VEGA_DEBUG[key] = version;\n",
       "            return resolve(paths[lib]);\n",
       "          };\n",
       "          s.onerror = () => reject(`Error loading script: ${paths[lib]}`);\n",
       "          s.src = paths[lib];\n",
       "        });\n",
       "    }\n",
       "\n",
       "    function showError(err) {\n",
       "      outputDiv.innerHTML = `<div class=\"error\" style=\"color:red;\">${err}</div>`;\n",
       "      throw err;\n",
       "    }\n",
       "\n",
       "    function displayChart(vegaEmbed) {\n",
       "      vegaEmbed(outputDiv, spec, embedOpt)\n",
       "        .catch(err => showError(`Javascript Error: ${err.message}<br>This usually means there's a typo in your chart specification. See the javascript console for the full traceback.`));\n",
       "    }\n",
       "\n",
       "    if(typeof define === \"function\" && define.amd) {\n",
       "      requirejs.config({paths});\n",
       "      require([\"vega-embed\"], displayChart, err => showError(`Error loading script: ${err.message}`));\n",
       "    } else {\n",
       "      maybeLoadScript(\"vega\", \"5\")\n",
       "        .then(() => maybeLoadScript(\"vega-lite\", \"5.17.0\"))\n",
       "        .then(() => maybeLoadScript(\"vega-embed\", \"6\"))\n",
       "        .catch(showError)\n",
       "        .then(() => displayChart(vegaEmbed));\n",
       "    }\n",
       "  })({\"usermeta\": {\"embedOptions\": {\"theme\": \"dark\"}}, \"config\": {\"view\": {\"continuousWidth\": 300, \"continuousHeight\": 300}, \"axis\": {\"labelFontSize\": 12, \"titleFontSize\": 12}}, \"data\": {\"name\": \"data-11ebd177962ba4d1ca2bb3561ffb7e36\"}, \"mark\": {\"type\": \"rect\"}, \"encoding\": {\"color\": {\"aggregate\": \"max\", \"field\": \"population\", \"legend\": {\"title\": \" \"}, \"scale\": {\"scheme\": \"blueorange\"}, \"type\": \"quantitative\"}, \"stroke\": {\"value\": \"black\"}, \"strokeWidth\": {\"value\": 0.25}, \"x\": {\"axis\": {\"title\": \"States\", \"titleFontSize\": 16, \"titleFontWeight\": 900, \"titlePadding\": 15}, \"field\": \"states\", \"type\": \"ordinal\"}, \"y\": {\"axis\": {\"labelAngle\": 0, \"title\": \"Year\", \"titleFontSize\": 16, \"titleFontWeight\": 900, \"titlePadding\": 15}, \"field\": \"year\", \"type\": \"ordinal\"}}, \"width\": 900, \"$schema\": \"https://vega.github.io/schema/vega-lite/v5.17.0.json\", \"datasets\": {\"data-11ebd177962ba4d1ca2bb3561ffb7e36\": [{\"id\": 1, \"states\": \"Alabama\", \"states_code\": \"AL\", \"state_abbv\": \"AL\", \"year\": 2010, \"population\": 4785437}, {\"id\": 2, \"states\": \"Alaska\", \"states_code\": \"AK\", \"state_abbv\": \"AK\", \"year\": 2010, \"population\": 713910}, {\"id\": 4, \"states\": \"Arizona\", \"states_code\": \"AZ\", \"state_abbv\": \"AZ\", \"year\": 2010, \"population\": 6407172}, {\"id\": 5, \"states\": \"Arkansas\", \"states_code\": \"AR\", \"state_abbv\": \"AR\", \"year\": 2010, \"population\": 2921964}, {\"id\": 6, \"states\": \"California\", \"states_code\": \"CA\", \"state_abbv\": \"CA\", \"year\": 2010, \"population\": 37319502}, {\"id\": 8, \"states\": \"Colorado\", \"states_code\": \"CO\", \"state_abbv\": \"CO\", \"year\": 2010, \"population\": 5047349}, {\"id\": 9, \"states\": \"Connecticut\", \"states_code\": \"CT\", \"state_abbv\": \"CT\", \"year\": 2010, \"population\": 3579114}, {\"id\": 10, \"states\": \"Delaware\", \"states_code\": \"DE\", \"state_abbv\": \"DE\", \"year\": 2010, \"population\": 899593}, {\"id\": 11, \"states\": \"District of Columbia\", \"states_code\": \"DC\", \"state_abbv\": null, \"year\": 2010, \"population\": 605226}, {\"id\": 12, \"states\": \"Florida\", \"states_code\": \"FL\", \"state_abbv\": \"FL\", \"year\": 2010, \"population\": 18845537}, {\"id\": 13, \"states\": \"Georgia\", \"states_code\": \"GA\", \"state_abbv\": \"GA\", \"year\": 2010, \"population\": 9711881}, {\"id\": 15, \"states\": \"Hawaii\", \"states_code\": \"HI\", \"state_abbv\": \"HI\", \"year\": 2010, \"population\": 1363963}, {\"id\": 16, \"states\": \"Idaho\", \"states_code\": \"ID\", \"state_abbv\": \"ID\", \"year\": 2010, \"population\": 1570746}, {\"id\": 17, \"states\": \"Illinois\", \"states_code\": \"IL\", \"state_abbv\": \"IL\", \"year\": 2010, \"population\": 12840503}, {\"id\": 18, \"states\": \"Indiana\", \"states_code\": \"IN\", \"state_abbv\": \"IN\", \"year\": 2010, \"population\": 6490432}, {\"id\": 19, \"states\": \"Iowa\", \"states_code\": \"IA\", \"state_abbv\": \"IA\", \"year\": 2010, \"population\": 3050745}, {\"id\": 20, \"states\": \"Kansas\", \"states_code\": \"KS\", \"state_abbv\": \"KS\", \"year\": 2010, \"population\": 2858190}, {\"id\": 21, \"states\": \"Kentucky\", \"states_code\": \"KY\", \"state_abbv\": \"KY\", \"year\": 2010, \"population\": 4348181}, {\"id\": 22, \"states\": \"Louisiana\", \"states_code\": \"LA\", \"state_abbv\": \"LA\", \"year\": 2010, \"population\": 4544532}, {\"id\": 23, \"states\": \"Maine\", \"states_code\": \"ME\", \"state_abbv\": \"ME\", \"year\": 2010, \"population\": 1327629}, {\"id\": 24, \"states\": \"Maryland\", \"states_code\": \"MD\", \"state_abbv\": \"MD\", \"year\": 2010, \"population\": 5788645}, {\"id\": 25, \"states\": \"Massachusetts\", \"states_code\": \"MA\", \"state_abbv\": \"MA\", \"year\": 2010, \"population\": 6566307}, {\"id\": 26, \"states\": \"Michigan\", \"states_code\": \"MI\", \"state_abbv\": \"MI\", \"year\": 2010, \"population\": 9877510}, {\"id\": 27, \"states\": \"Minnesota\", \"states_code\": \"MN\", \"state_abbv\": \"MN\", \"year\": 2010, \"population\": 5310828}, {\"id\": 28, \"states\": \"Mississippi\", \"states_code\": \"MS\", \"state_abbv\": \"MS\", \"year\": 2010, \"population\": 2970548}, {\"id\": 29, \"states\": \"Missouri\", \"states_code\": \"MO\", \"state_abbv\": \"MO\", \"year\": 2010, \"population\": 5995974}, {\"id\": 30, \"states\": \"Montana\", \"states_code\": \"MT\", \"state_abbv\": \"MT\", \"year\": 2010, \"population\": 990697}, {\"id\": 31, \"states\": \"Nebraska\", \"states_code\": \"NE\", \"state_abbv\": \"NE\", \"year\": 2010, \"population\": 1829542}, {\"id\": 32, \"states\": \"Nevada\", \"states_code\": \"NV\", \"state_abbv\": \"NV\", \"year\": 2010, \"population\": 2702405}, {\"id\": 33, \"states\": \"New Hampshire\", \"states_code\": \"NH\", \"state_abbv\": \"NH\", \"year\": 2010, \"population\": 1316762}, {\"id\": 34, \"states\": \"New Jersey\", \"states_code\": \"NJ\", \"state_abbv\": \"NJ\", \"year\": 2010, \"population\": 8799446}, {\"id\": 35, \"states\": \"New Mexico\", \"states_code\": \"NM\", \"state_abbv\": \"NM\", \"year\": 2010, \"population\": 2064552}, {\"id\": 36, \"states\": \"New York\", \"states_code\": \"NY\", \"state_abbv\": \"NY\", \"year\": 2010, \"population\": 19399878}, {\"id\": 37, \"states\": \"North Carolina\", \"states_code\": \"NC\", \"state_abbv\": \"NC\", \"year\": 2010, \"population\": 9574323}, {\"id\": 38, \"states\": \"North Dakota\", \"states_code\": \"ND\", \"state_abbv\": \"ND\", \"year\": 2010, \"population\": 674715}, {\"id\": 39, \"states\": \"Ohio\", \"states_code\": \"OH\", \"state_abbv\": \"OH\", \"year\": 2010, \"population\": 11539336}, {\"id\": 40, \"states\": \"Oklahoma\", \"states_code\": \"OK\", \"state_abbv\": \"OK\", \"year\": 2010, \"population\": 3759944}, {\"id\": 41, \"states\": \"Oregon\", \"states_code\": \"OR\", \"state_abbv\": \"OR\", \"year\": 2010, \"population\": 3837491}, {\"id\": 42, \"states\": \"Pennsylvania\", \"states_code\": \"PA\", \"state_abbv\": \"PA\", \"year\": 2010, \"population\": 12711160}, {\"id\": 44, \"states\": \"Rhode Island\", \"states_code\": \"RI\", \"state_abbv\": \"RI\", \"year\": 2010, \"population\": 1053959}, {\"id\": 45, \"states\": \"South Carolina\", \"states_code\": \"SC\", \"state_abbv\": \"SC\", \"year\": 2010, \"population\": 4635649}, {\"id\": 46, \"states\": \"South Dakota\", \"states_code\": \"SD\", \"state_abbv\": \"SD\", \"year\": 2010, \"population\": 816166}, {\"id\": 47, \"states\": \"Tennessee\", \"states_code\": \"TN\", \"state_abbv\": \"TN\", \"year\": 2010, \"population\": 6355311}, {\"id\": 48, \"states\": \"Texas\", \"states_code\": \"TX\", \"state_abbv\": \"TX\", \"year\": 2010, \"population\": 25241971}, {\"id\": 49, \"states\": \"Utah\", \"states_code\": \"UT\", \"state_abbv\": \"UT\", \"year\": 2010, \"population\": 2775332}, {\"id\": 50, \"states\": \"Vermont\", \"states_code\": \"VT\", \"state_abbv\": \"VT\", \"year\": 2010, \"population\": 625879}, {\"id\": 51, \"states\": \"Virginia\", \"states_code\": \"VA\", \"state_abbv\": \"VA\", \"year\": 2010, \"population\": 8023699}, {\"id\": 53, \"states\": \"Washington\", \"states_code\": \"WA\", \"state_abbv\": \"WA\", \"year\": 2010, \"population\": 6742830}, {\"id\": 54, \"states\": \"West Virginia\", \"states_code\": \"WV\", \"state_abbv\": \"WV\", \"year\": 2010, \"population\": 1854239}, {\"id\": 55, \"states\": \"Wisconsin\", \"states_code\": \"WI\", \"state_abbv\": \"WI\", \"year\": 2010, \"population\": 5690475}, {\"id\": 56, \"states\": \"Wyoming\", \"states_code\": \"WY\", \"state_abbv\": \"WY\", \"year\": 2010, \"population\": 564487}, {\"id\": 72, \"states\": \"Puerto Rico\", \"states_code\": \"PR\", \"state_abbv\": \"PR\", \"year\": 2010, \"population\": 3721525}, {\"id\": 1, \"states\": \"Alabama\", \"states_code\": \"AL\", \"state_abbv\": \"AL\", \"year\": 2011, \"population\": 4799069}, {\"id\": 2, \"states\": \"Alaska\", \"states_code\": \"AK\", \"state_abbv\": \"AK\", \"year\": 2011, \"population\": 722128}, {\"id\": 4, \"states\": \"Arizona\", \"states_code\": \"AZ\", \"state_abbv\": \"AZ\", \"year\": 2011, \"population\": 6472643}, {\"id\": 5, \"states\": \"Arkansas\", \"states_code\": \"AR\", \"state_abbv\": \"AR\", \"year\": 2011, \"population\": 2940667}, {\"id\": 6, \"states\": \"California\", \"states_code\": \"CA\", \"state_abbv\": \"CA\", \"year\": 2011, \"population\": 37638369}, {\"id\": 8, \"states\": \"Colorado\", \"states_code\": \"CO\", \"state_abbv\": \"CO\", \"year\": 2011, \"population\": 5121108}, {\"id\": 9, \"states\": \"Connecticut\", \"states_code\": \"CT\", \"state_abbv\": \"CT\", \"year\": 2011, \"population\": 3588283}, {\"id\": 10, \"states\": \"Delaware\", \"states_code\": \"DE\", \"state_abbv\": \"DE\", \"year\": 2011, \"population\": 907381}, {\"id\": 11, \"states\": \"District of Columbia\", \"states_code\": \"DC\", \"state_abbv\": null, \"year\": 2011, \"population\": 619800}, {\"id\": 12, \"states\": \"Florida\", \"states_code\": \"FL\", \"state_abbv\": \"FL\", \"year\": 2011, \"population\": 19053237}, {\"id\": 13, \"states\": \"Georgia\", \"states_code\": \"GA\", \"state_abbv\": \"GA\", \"year\": 2011, \"population\": 9802431}, {\"id\": 15, \"states\": \"Hawaii\", \"states_code\": \"HI\", \"state_abbv\": \"HI\", \"year\": 2011, \"population\": 1379329}, {\"id\": 16, \"states\": \"Idaho\", \"states_code\": \"ID\", \"state_abbv\": \"ID\", \"year\": 2011, \"population\": 1583910}, {\"id\": 17, \"states\": \"Illinois\", \"states_code\": \"IL\", \"state_abbv\": \"IL\", \"year\": 2011, \"population\": 12867454}, {\"id\": 18, \"states\": \"Indiana\", \"states_code\": \"IN\", \"state_abbv\": \"IN\", \"year\": 2011, \"population\": 6516528}, {\"id\": 19, \"states\": \"Iowa\", \"states_code\": \"IA\", \"state_abbv\": \"IA\", \"year\": 2011, \"population\": 3066336}, {\"id\": 20, \"states\": \"Kansas\", \"states_code\": \"KS\", \"state_abbv\": \"KS\", \"year\": 2011, \"population\": 2869225}, {\"id\": 21, \"states\": \"Kentucky\", \"states_code\": \"KY\", \"state_abbv\": \"KY\", \"year\": 2011, \"population\": 4369821}, {\"id\": 22, \"states\": \"Louisiana\", \"states_code\": \"LA\", \"state_abbv\": \"LA\", \"year\": 2011, \"population\": 4575625}, {\"id\": 23, \"states\": \"Maine\", \"states_code\": \"ME\", \"state_abbv\": \"ME\", \"year\": 2011, \"population\": 1328284}, {\"id\": 24, \"states\": \"Maryland\", \"states_code\": \"MD\", \"state_abbv\": \"MD\", \"year\": 2011, \"population\": 5839419}, {\"id\": 25, \"states\": \"Massachusetts\", \"states_code\": \"MA\", \"state_abbv\": \"MA\", \"year\": 2011, \"population\": 6613583}, {\"id\": 26, \"states\": \"Michigan\", \"states_code\": \"MI\", \"state_abbv\": \"MI\", \"year\": 2011, \"population\": 9882412}, {\"id\": 27, \"states\": \"Minnesota\", \"states_code\": \"MN\", \"state_abbv\": \"MN\", \"year\": 2011, \"population\": 5346143}, {\"id\": 28, \"states\": \"Mississippi\", \"states_code\": \"MS\", \"state_abbv\": \"MS\", \"year\": 2011, \"population\": 2978731}, {\"id\": 29, \"states\": \"Missouri\", \"states_code\": \"MO\", \"state_abbv\": \"MO\", \"year\": 2011, \"population\": 6010275}, {\"id\": 30, \"states\": \"Montana\", \"states_code\": \"MT\", \"state_abbv\": \"MT\", \"year\": 2011, \"population\": 997316}, {\"id\": 31, \"states\": \"Nebraska\", \"states_code\": \"NE\", \"state_abbv\": \"NE\", \"year\": 2011, \"population\": 1840672}, {\"id\": 32, \"states\": \"Nevada\", \"states_code\": \"NV\", \"state_abbv\": \"NV\", \"year\": 2011, \"population\": 2712730}, {\"id\": 33, \"states\": \"New Hampshire\", \"states_code\": \"NH\", \"state_abbv\": \"NH\", \"year\": 2011, \"population\": 1320202}, {\"id\": 34, \"states\": \"New Jersey\", \"states_code\": \"NJ\", \"state_abbv\": \"NJ\", \"year\": 2011, \"population\": 8828117}, {\"id\": 35, \"states\": \"New Mexico\", \"states_code\": \"NM\", \"state_abbv\": \"NM\", \"year\": 2011, \"population\": 2080450}, {\"id\": 36, \"states\": \"New York\", \"states_code\": \"NY\", \"state_abbv\": \"NY\", \"year\": 2011, \"population\": 19499241}, {\"id\": 37, \"states\": \"North Carolina\", \"states_code\": \"NC\", \"state_abbv\": \"NC\", \"year\": 2011, \"population\": 9657592}, {\"id\": 38, \"states\": \"North Dakota\", \"states_code\": \"ND\", \"state_abbv\": \"ND\", \"year\": 2011, \"population\": 685225}, {\"id\": 39, \"states\": \"Ohio\", \"states_code\": \"OH\", \"state_abbv\": \"OH\", \"year\": 2011, \"population\": 11544663}, {\"id\": 40, \"states\": \"Oklahoma\", \"states_code\": \"OK\", \"state_abbv\": \"OK\", \"year\": 2011, \"population\": 3788379}, {\"id\": 41, \"states\": \"Oregon\", \"states_code\": \"OR\", \"state_abbv\": \"OR\", \"year\": 2011, \"population\": 3872036}, {\"id\": 42, \"states\": \"Pennsylvania\", \"states_code\": \"PA\", \"state_abbv\": \"PA\", \"year\": 2011, \"population\": 12745815}, {\"id\": 44, \"states\": \"Rhode Island\", \"states_code\": \"RI\", \"state_abbv\": \"RI\", \"year\": 2011, \"population\": 1053649}, {\"id\": 45, \"states\": \"South Carolina\", \"states_code\": \"SC\", \"state_abbv\": \"SC\", \"year\": 2011, \"population\": 4671994}, {\"id\": 46, \"states\": \"South Dakota\", \"states_code\": \"SD\", \"state_abbv\": \"SD\", \"year\": 2011, \"population\": 823579}, {\"id\": 47, \"states\": \"Tennessee\", \"states_code\": \"TN\", \"state_abbv\": \"TN\", \"year\": 2011, \"population\": 6399291}, {\"id\": 48, \"states\": \"Texas\", \"states_code\": \"TX\", \"state_abbv\": \"TX\", \"year\": 2011, \"population\": 25645629}, {\"id\": 49, \"states\": \"Utah\", \"states_code\": \"UT\", \"state_abbv\": \"UT\", \"year\": 2011, \"population\": 2814384}, {\"id\": 50, \"states\": \"Vermont\", \"states_code\": \"VT\", \"state_abbv\": \"VT\", \"year\": 2011, \"population\": 627049}, {\"id\": 51, \"states\": \"Virginia\", \"states_code\": \"VA\", \"state_abbv\": \"VA\", \"year\": 2011, \"population\": 8101155}, {\"id\": 53, \"states\": \"Washington\", \"states_code\": \"WA\", \"state_abbv\": \"WA\", \"year\": 2011, \"population\": 6826627}, {\"id\": 54, \"states\": \"West Virginia\", \"states_code\": \"WV\", \"state_abbv\": \"WV\", \"year\": 2011, \"population\": 1856301}, {\"id\": 55, \"states\": \"Wisconsin\", \"states_code\": \"WI\", \"state_abbv\": \"WI\", \"year\": 2011, \"population\": 5705288}, {\"id\": 56, \"states\": \"Wyoming\", \"states_code\": \"WY\", \"state_abbv\": \"WY\", \"year\": 2011, \"population\": 567299}, {\"id\": 72, \"states\": \"Puerto Rico\", \"states_code\": \"PR\", \"state_abbv\": \"PR\", \"year\": 2011, \"population\": 3678732}, {\"id\": 1, \"states\": \"Alabama\", \"states_code\": \"AL\", \"state_abbv\": \"AL\", \"year\": 2012, \"population\": 4815588}, {\"id\": 2, \"states\": \"Alaska\", \"states_code\": \"AK\", \"state_abbv\": \"AK\", \"year\": 2012, \"population\": 730443}, {\"id\": 4, \"states\": \"Arizona\", \"states_code\": \"AZ\", \"state_abbv\": \"AZ\", \"year\": 2012, \"population\": 6554978}, {\"id\": 5, \"states\": \"Arkansas\", \"states_code\": \"AR\", \"state_abbv\": \"AR\", \"year\": 2012, \"population\": 2952164}, {\"id\": 6, \"states\": \"California\", \"states_code\": \"CA\", \"state_abbv\": \"CA\", \"year\": 2012, \"population\": 37948800}, {\"id\": 8, \"states\": \"Colorado\", \"states_code\": \"CO\", \"state_abbv\": \"CO\", \"year\": 2012, \"population\": 5192647}, {\"id\": 9, \"states\": \"Connecticut\", \"states_code\": \"CT\", \"state_abbv\": \"CT\", \"year\": 2012, \"population\": 3594547}, {\"id\": 10, \"states\": \"Delaware\", \"states_code\": \"DE\", \"state_abbv\": \"DE\", \"year\": 2012, \"population\": 915179}, {\"id\": 11, \"states\": \"District of Columbia\", \"states_code\": \"DC\", \"state_abbv\": null, \"year\": 2012, \"population\": 634924}, {\"id\": 12, \"states\": \"Florida\", \"states_code\": \"FL\", \"state_abbv\": \"FL\", \"year\": 2012, \"population\": 19297822}, {\"id\": 13, \"states\": \"Georgia\", \"states_code\": \"GA\", \"state_abbv\": \"GA\", \"year\": 2012, \"population\": 9901430}, {\"id\": 15, \"states\": \"Hawaii\", \"states_code\": \"HI\", \"state_abbv\": \"HI\", \"year\": 2012, \"population\": 1394804}, {\"id\": 16, \"states\": \"Idaho\", \"states_code\": \"ID\", \"state_abbv\": \"ID\", \"year\": 2012, \"population\": 1595324}, {\"id\": 17, \"states\": \"Illinois\", \"states_code\": \"IL\", \"state_abbv\": \"IL\", \"year\": 2012, \"population\": 12882510}, {\"id\": 18, \"states\": \"Indiana\", \"states_code\": \"IN\", \"state_abbv\": \"IN\", \"year\": 2012, \"population\": 6537703}, {\"id\": 19, \"states\": \"Iowa\", \"states_code\": \"IA\", \"state_abbv\": \"IA\", \"year\": 2012, \"population\": 3076190}, {\"id\": 20, \"states\": \"Kansas\", \"states_code\": \"KS\", \"state_abbv\": \"KS\", \"year\": 2012, \"population\": 2885257}, {\"id\": 21, \"states\": \"Kentucky\", \"states_code\": \"KY\", \"state_abbv\": \"KY\", \"year\": 2012, \"population\": 4386346}, {\"id\": 22, \"states\": \"Louisiana\", \"states_code\": \"LA\", \"state_abbv\": \"LA\", \"year\": 2012, \"population\": 4600972}, {\"id\": 23, \"states\": \"Maine\", \"states_code\": \"ME\", \"state_abbv\": \"ME\", \"year\": 2012, \"population\": 1327729}, {\"id\": 24, \"states\": \"Maryland\", \"states_code\": \"MD\", \"state_abbv\": \"MD\", \"year\": 2012, \"population\": 5886992}, {\"id\": 25, \"states\": \"Massachusetts\", \"states_code\": \"MA\", \"state_abbv\": \"MA\", \"year\": 2012, \"population\": 6663005}, {\"id\": 26, \"states\": \"Michigan\", \"states_code\": \"MI\", \"state_abbv\": \"MI\", \"year\": 2012, \"population\": 9897145}, {\"id\": 27, \"states\": \"Minnesota\", \"states_code\": \"MN\", \"state_abbv\": \"MN\", \"year\": 2012, \"population\": 5376643}, {\"id\": 28, \"states\": \"Mississippi\", \"states_code\": \"MS\", \"state_abbv\": \"MS\", \"year\": 2012, \"population\": 2983816}, {\"id\": 29, \"states\": \"Missouri\", \"states_code\": \"MO\", \"state_abbv\": \"MO\", \"year\": 2012, \"population\": 6024367}, {\"id\": 30, \"states\": \"Montana\", \"states_code\": \"MT\", \"state_abbv\": \"MT\", \"year\": 2012, \"population\": 1003783}, {\"id\": 31, \"states\": \"Nebraska\", \"states_code\": \"NE\", \"state_abbv\": \"NE\", \"year\": 2012, \"population\": 1853303}, {\"id\": 32, \"states\": \"Nevada\", \"states_code\": \"NV\", \"state_abbv\": \"NV\", \"year\": 2012, \"population\": 2743996}, {\"id\": 33, \"states\": \"New Hampshire\", \"states_code\": \"NH\", \"state_abbv\": \"NH\", \"year\": 2012, \"population\": 1324232}, {\"id\": 34, \"states\": \"New Jersey\", \"states_code\": \"NJ\", \"state_abbv\": \"NJ\", \"year\": 2012, \"population\": 8844942}, {\"id\": 35, \"states\": \"New Mexico\", \"states_code\": \"NM\", \"state_abbv\": \"NM\", \"year\": 2012, \"population\": 2087309}, {\"id\": 36, \"states\": \"New York\", \"states_code\": \"NY\", \"state_abbv\": \"NY\", \"year\": 2012, \"population\": 19572932}, {\"id\": 37, \"states\": \"North Carolina\", \"states_code\": \"NC\", \"state_abbv\": \"NC\", \"year\": 2012, \"population\": 9749476}, {\"id\": 38, \"states\": \"North Dakota\", \"states_code\": \"ND\", \"state_abbv\": \"ND\", \"year\": 2012, \"population\": 701176}, {\"id\": 39, \"states\": \"Ohio\", \"states_code\": \"OH\", \"state_abbv\": \"OH\", \"year\": 2012, \"population\": 11548923}, {\"id\": 40, \"states\": \"Oklahoma\", \"states_code\": \"OK\", \"state_abbv\": \"OK\", \"year\": 2012, \"population\": 3818814}, {\"id\": 41, \"states\": \"Oregon\", \"states_code\": \"OR\", \"state_abbv\": \"OR\", \"year\": 2012, \"population\": 3899001}, {\"id\": 42, \"states\": \"Pennsylvania\", \"states_code\": \"PA\", \"state_abbv\": \"PA\", \"year\": 2012, \"population\": 12767118}, {\"id\": 44, \"states\": \"Rhode Island\", \"states_code\": \"RI\", \"state_abbv\": \"RI\", \"year\": 2012, \"population\": 1054621}, {\"id\": 45, \"states\": \"South Carolina\", \"states_code\": \"SC\", \"state_abbv\": \"SC\", \"year\": 2012, \"population\": 4717354}, {\"id\": 46, \"states\": \"South Dakota\", \"states_code\": \"SD\", \"state_abbv\": \"SD\", \"year\": 2012, \"population\": 833566}, {\"id\": 47, \"states\": \"Tennessee\", \"states_code\": \"TN\", \"state_abbv\": \"TN\", \"year\": 2012, \"population\": 6453898}, {\"id\": 48, \"states\": \"Texas\", \"states_code\": \"TX\", \"state_abbv\": \"TX\", \"year\": 2012, \"population\": 26084481}, {\"id\": 49, \"states\": \"Utah\", \"states_code\": \"UT\", \"state_abbv\": \"UT\", \"year\": 2012, \"population\": 2853375}, {\"id\": 50, \"states\": \"Vermont\", \"states_code\": \"VT\", \"state_abbv\": \"VT\", \"year\": 2012, \"population\": 626090}, {\"id\": 51, \"states\": \"Virginia\", \"states_code\": \"VA\", \"state_abbv\": \"VA\", \"year\": 2012, \"population\": 8185080}, {\"id\": 53, \"states\": \"Washington\", \"states_code\": \"WA\", \"state_abbv\": \"WA\", \"year\": 2012, \"population\": 6897058}, {\"id\": 54, \"states\": \"West Virginia\", \"states_code\": \"WV\", \"state_abbv\": \"WV\", \"year\": 2012, \"population\": 1856872}, {\"id\": 55, \"states\": \"Wisconsin\", \"states_code\": \"WI\", \"state_abbv\": \"WI\", \"year\": 2012, \"population\": 5719960}, {\"id\": 56, \"states\": \"Wyoming\", \"states_code\": \"WY\", \"state_abbv\": \"WY\", \"year\": 2012, \"population\": 576305}, {\"id\": 72, \"states\": \"Puerto Rico\", \"states_code\": \"PR\", \"state_abbv\": \"PR\", \"year\": 2012, \"population\": 3634488}, {\"id\": 1, \"states\": \"Alabama\", \"states_code\": \"AL\", \"state_abbv\": \"AL\", \"year\": 2013, \"population\": 4830081}, {\"id\": 2, \"states\": \"Alaska\", \"states_code\": \"AK\", \"state_abbv\": \"AK\", \"year\": 2013, \"population\": 737068}, {\"id\": 4, \"states\": \"Arizona\", \"states_code\": \"AZ\", \"state_abbv\": \"AZ\", \"year\": 2013, \"population\": 6632764}, {\"id\": 5, \"states\": \"Arkansas\", \"states_code\": \"AR\", \"state_abbv\": \"AR\", \"year\": 2013, \"population\": 2959400}, {\"id\": 6, \"states\": \"California\", \"states_code\": \"CA\", \"state_abbv\": \"CA\", \"year\": 2013, \"population\": 38260787}, {\"id\": 8, \"states\": \"Colorado\", \"states_code\": \"CO\", \"state_abbv\": \"CO\", \"year\": 2013, \"population\": 5269035}, {\"id\": 9, \"states\": \"Connecticut\", \"states_code\": \"CT\", \"state_abbv\": \"CT\", \"year\": 2013, \"population\": 3594841}, {\"id\": 10, \"states\": \"Delaware\", \"states_code\": \"DE\", \"state_abbv\": \"DE\", \"year\": 2013, \"population\": 923576}, {\"id\": 11, \"states\": \"District of Columbia\", \"states_code\": \"DC\", \"state_abbv\": null, \"year\": 2013, \"population\": 650581}, {\"id\": 12, \"states\": \"Florida\", \"states_code\": \"FL\", \"state_abbv\": \"FL\", \"year\": 2013, \"population\": 19545621}, {\"id\": 13, \"states\": \"Georgia\", \"states_code\": \"GA\", \"state_abbv\": \"GA\", \"year\": 2013, \"population\": 9972479}, {\"id\": 15, \"states\": \"Hawaii\", \"states_code\": \"HI\", \"state_abbv\": \"HI\", \"year\": 2013, \"population\": 1408243}, {\"id\": 16, \"states\": \"Idaho\", \"states_code\": \"ID\", \"state_abbv\": \"ID\", \"year\": 2013, \"population\": 1611206}, {\"id\": 17, \"states\": \"Illinois\", \"states_code\": \"IL\", \"state_abbv\": \"IL\", \"year\": 2013, \"population\": 12895129}, {\"id\": 18, \"states\": \"Indiana\", \"states_code\": \"IN\", \"state_abbv\": \"IN\", \"year\": 2013, \"population\": 6568713}, {\"id\": 19, \"states\": \"Iowa\", \"states_code\": \"IA\", \"state_abbv\": \"IA\", \"year\": 2013, \"population\": 3092997}, {\"id\": 20, \"states\": \"Kansas\", \"states_code\": \"KS\", \"state_abbv\": \"KS\", \"year\": 2013, \"population\": 2893212}, {\"id\": 21, \"states\": \"Kentucky\", \"states_code\": \"KY\", \"state_abbv\": \"KY\", \"year\": 2013, \"population\": 4404659}, {\"id\": 22, \"states\": \"Louisiana\", \"states_code\": \"LA\", \"state_abbv\": \"LA\", \"year\": 2013, \"population\": 4624527}, {\"id\": 23, \"states\": \"Maine\", \"states_code\": \"ME\", \"state_abbv\": \"ME\", \"year\": 2013, \"population\": 1328009}, {\"id\": 24, \"states\": \"Maryland\", \"states_code\": \"MD\", \"state_abbv\": \"MD\", \"year\": 2013, \"population\": 5923188}, {\"id\": 25, \"states\": \"Massachusetts\", \"states_code\": \"MA\", \"state_abbv\": \"MA\", \"year\": 2013, \"population\": 6713315}, {\"id\": 26, \"states\": \"Michigan\", \"states_code\": \"MI\", \"state_abbv\": \"MI\", \"year\": 2013, \"population\": 9913065}, {\"id\": 27, \"states\": \"Minnesota\", \"states_code\": \"MN\", \"state_abbv\": \"MN\", \"year\": 2013, \"population\": 5413479}, {\"id\": 28, \"states\": \"Mississippi\", \"states_code\": \"MS\", \"state_abbv\": \"MS\", \"year\": 2013, \"population\": 2988711}, {\"id\": 29, \"states\": \"Missouri\", \"states_code\": \"MO\", \"state_abbv\": \"MO\", \"year\": 2013, \"population\": 6040715}, {\"id\": 30, \"states\": \"Montana\", \"states_code\": \"MT\", \"state_abbv\": \"MT\", \"year\": 2013, \"population\": 1013569}, {\"id\": 31, \"states\": \"Nebraska\", \"states_code\": \"NE\", \"state_abbv\": \"NE\", \"year\": 2013, \"population\": 1865279}, {\"id\": 32, \"states\": \"Nevada\", \"states_code\": \"NV\", \"state_abbv\": \"NV\", \"year\": 2013, \"population\": 2775970}, {\"id\": 33, \"states\": \"New Hampshire\", \"states_code\": \"NH\", \"state_abbv\": \"NH\", \"year\": 2013, \"population\": 1326622}, {\"id\": 34, \"states\": \"New Jersey\", \"states_code\": \"NJ\", \"state_abbv\": \"NJ\", \"year\": 2013, \"population\": 8856972}, {\"id\": 35, \"states\": \"New Mexico\", \"states_code\": \"NM\", \"state_abbv\": \"NM\", \"year\": 2013, \"population\": 2092273}, {\"id\": 36, \"states\": \"New York\", \"states_code\": \"NY\", \"state_abbv\": \"NY\", \"year\": 2013, \"population\": 19624447}, {\"id\": 37, \"states\": \"North Carolina\", \"states_code\": \"NC\", \"state_abbv\": \"NC\", \"year\": 2013, \"population\": 9843336}, {\"id\": 38, \"states\": \"North Dakota\", \"states_code\": \"ND\", \"state_abbv\": \"ND\", \"year\": 2013, \"population\": 722036}, {\"id\": 39, \"states\": \"Ohio\", \"states_code\": \"OH\", \"state_abbv\": \"OH\", \"year\": 2013, \"population\": 11576684}, {\"id\": 40, \"states\": \"Oklahoma\", \"states_code\": \"OK\", \"state_abbv\": \"OK\", \"year\": 2013, \"population\": 3853214}, {\"id\": 41, \"states\": \"Oregon\", \"states_code\": \"OR\", \"state_abbv\": \"OR\", \"year\": 2013, \"population\": 3922468}, {\"id\": 42, \"states\": \"Pennsylvania\", \"states_code\": \"PA\", \"state_abbv\": \"PA\", \"year\": 2013, \"population\": 12776309}, {\"id\": 44, \"states\": \"Rhode Island\", \"states_code\": \"RI\", \"state_abbv\": \"RI\", \"year\": 2013, \"population\": 1055081}, {\"id\": 45, \"states\": \"South Carolina\", \"states_code\": \"SC\", \"state_abbv\": \"SC\", \"year\": 2013, \"population\": 4764080}, {\"id\": 46, \"states\": \"South Dakota\", \"states_code\": \"SD\", \"state_abbv\": \"SD\", \"year\": 2013, \"population\": 842316}, {\"id\": 47, \"states\": \"Tennessee\", \"states_code\": \"TN\", \"state_abbv\": \"TN\", \"year\": 2013, \"population\": 6494340}, {\"id\": 48, \"states\": \"Texas\", \"states_code\": \"TX\", \"state_abbv\": \"TX\", \"year\": 2013, \"population\": 26480266}, {\"id\": 49, \"states\": \"Utah\", \"states_code\": \"UT\", \"state_abbv\": \"UT\", \"year\": 2013, \"population\": 2897640}, {\"id\": 50, \"states\": \"Vermont\", \"states_code\": \"VT\", \"state_abbv\": \"VT\", \"year\": 2013, \"population\": 626210}, {\"id\": 51, \"states\": \"Virginia\", \"states_code\": \"VA\", \"state_abbv\": \"VA\", \"year\": 2013, \"population\": 8252427}, {\"id\": 53, \"states\": \"Washington\", \"states_code\": \"WA\", \"state_abbv\": \"WA\", \"year\": 2013, \"population\": 6963985}, {\"id\": 54, \"states\": \"West Virginia\", \"states_code\": \"WV\", \"state_abbv\": \"WV\", \"year\": 2013, \"population\": 1853914}, {\"id\": 55, \"states\": \"Wisconsin\", \"states_code\": \"WI\", \"state_abbv\": \"WI\", \"year\": 2013, \"population\": 5736754}, {\"id\": 56, \"states\": \"Wyoming\", \"states_code\": \"WY\", \"state_abbv\": \"WY\", \"year\": 2013, \"population\": 582122}, {\"id\": 72, \"states\": \"Puerto Rico\", \"states_code\": \"PR\", \"state_abbv\": \"PR\", \"year\": 2013, \"population\": 3593077}, {\"id\": 1, \"states\": \"Alabama\", \"states_code\": \"AL\", \"state_abbv\": \"AL\", \"year\": 2014, \"population\": 4841799}, {\"id\": 2, \"states\": \"Alaska\", \"states_code\": \"AK\", \"state_abbv\": \"AK\", \"year\": 2014, \"population\": 736283}, {\"id\": 4, \"states\": \"Arizona\", \"states_code\": \"AZ\", \"state_abbv\": \"AZ\", \"year\": 2014, \"population\": 6730413}, {\"id\": 5, \"states\": \"Arkansas\", \"states_code\": \"AR\", \"state_abbv\": \"AR\", \"year\": 2014, \"population\": 2967392}, {\"id\": 6, \"states\": \"California\", \"states_code\": \"CA\", \"state_abbv\": \"CA\", \"year\": 2014, \"population\": 38596972}, {\"id\": 8, \"states\": \"Colorado\", \"states_code\": \"CO\", \"state_abbv\": \"CO\", \"year\": 2014, \"population\": 5350101}, {\"id\": 9, \"states\": \"Connecticut\", \"states_code\": \"CT\", \"state_abbv\": \"CT\", \"year\": 2014, \"population\": 3594524}, {\"id\": 10, \"states\": \"Delaware\", \"states_code\": \"DE\", \"state_abbv\": \"DE\", \"year\": 2014, \"population\": 932487}, {\"id\": 11, \"states\": \"District of Columbia\", \"states_code\": \"DC\", \"state_abbv\": null, \"year\": 2014, \"population\": 662328}, {\"id\": 12, \"states\": \"Florida\", \"states_code\": \"FL\", \"state_abbv\": \"FL\", \"year\": 2014, \"population\": 19845911}, {\"id\": 13, \"states\": \"Georgia\", \"states_code\": \"GA\", \"state_abbv\": \"GA\", \"year\": 2014, \"population\": 10067278}, {\"id\": 15, \"states\": \"Hawaii\", \"states_code\": \"HI\", \"state_abbv\": \"HI\", \"year\": 2014, \"population\": 1414538}, {\"id\": 16, \"states\": \"Idaho\", \"states_code\": \"ID\", \"state_abbv\": \"ID\", \"year\": 2014, \"population\": 1631112}, {\"id\": 17, \"states\": \"Illinois\", \"states_code\": \"IL\", \"state_abbv\": \"IL\", \"year\": 2014, \"population\": 12884493}, {\"id\": 18, \"states\": \"Indiana\", \"states_code\": \"IN\", \"state_abbv\": \"IN\", \"year\": 2014, \"population\": 6593644}, {\"id\": 19, \"states\": \"Iowa\", \"states_code\": \"IA\", \"state_abbv\": \"IA\", \"year\": 2014, \"population\": 3109350}, {\"id\": 20, \"states\": \"Kansas\", \"states_code\": \"KS\", \"state_abbv\": \"KS\", \"year\": 2014, \"population\": 2900475}, {\"id\": 21, \"states\": \"Kentucky\", \"states_code\": \"KY\", \"state_abbv\": \"KY\", \"year\": 2014, \"population\": 4414349}, {\"id\": 22, \"states\": \"Louisiana\", \"states_code\": \"LA\", \"state_abbv\": \"LA\", \"year\": 2014, \"population\": 4644013}, {\"id\": 23, \"states\": \"Maine\", \"states_code\": \"ME\", \"state_abbv\": \"ME\", \"year\": 2014, \"population\": 1330513}, {\"id\": 24, \"states\": \"Maryland\", \"states_code\": \"MD\", \"state_abbv\": \"MD\", \"year\": 2014, \"population\": 5957283}, {\"id\": 25, \"states\": \"Massachusetts\", \"states_code\": \"MA\", \"state_abbv\": \"MA\", \"year\": 2014, \"population\": 6762596}, {\"id\": 26, \"states\": \"Michigan\", \"states_code\": \"MI\", \"state_abbv\": \"MI\", \"year\": 2014, \"population\": 9929848}, {\"id\": 27, \"states\": \"Minnesota\", \"states_code\": \"MN\", \"state_abbv\": \"MN\", \"year\": 2014, \"population\": 5451079}, {\"id\": 28, \"states\": \"Mississippi\", \"states_code\": \"MS\", \"state_abbv\": \"MS\", \"year\": 2014, \"population\": 2990468}, {\"id\": 29, \"states\": \"Missouri\", \"states_code\": \"MO\", \"state_abbv\": \"MO\", \"year\": 2014, \"population\": 6056202}, {\"id\": 30, \"states\": \"Montana\", \"states_code\": \"MT\", \"state_abbv\": \"MT\", \"year\": 2014, \"population\": 1021869}, {\"id\": 31, \"states\": \"Nebraska\", \"states_code\": \"NE\", \"state_abbv\": \"NE\", \"year\": 2014, \"population\": 1879321}, {\"id\": 32, \"states\": \"Nevada\", \"states_code\": \"NV\", \"state_abbv\": \"NV\", \"year\": 2014, \"population\": 2817628}, {\"id\": 33, \"states\": \"New Hampshire\", \"states_code\": \"NH\", \"state_abbv\": \"NH\", \"year\": 2014, \"population\": 1333341}, {\"id\": 34, \"states\": \"New Jersey\", \"states_code\": \"NJ\", \"state_abbv\": \"NJ\", \"year\": 2014, \"population\": 8864525}, {\"id\": 35, \"states\": \"New Mexico\", \"states_code\": \"NM\", \"state_abbv\": \"NM\", \"year\": 2014, \"population\": 2089568}, {\"id\": 36, \"states\": \"New York\", \"states_code\": \"NY\", \"state_abbv\": \"NY\", \"year\": 2014, \"population\": 19651049}, {\"id\": 37, \"states\": \"North Carolina\", \"states_code\": \"NC\", \"state_abbv\": \"NC\", \"year\": 2014, \"population\": 9932887}, {\"id\": 38, \"states\": \"North Dakota\", \"states_code\": \"ND\", \"state_abbv\": \"ND\", \"year\": 2014, \"population\": 737401}, {\"id\": 39, \"states\": \"Ohio\", \"states_code\": \"OH\", \"state_abbv\": \"OH\", \"year\": 2014, \"population\": 11602700}, {\"id\": 40, \"states\": \"Oklahoma\", \"states_code\": \"OK\", \"state_abbv\": \"OK\", \"year\": 2014, \"population\": 3878187}, {\"id\": 41, \"states\": \"Oregon\", \"states_code\": \"OR\", \"state_abbv\": \"OR\", \"year\": 2014, \"population\": 3963244}, {\"id\": 42, \"states\": \"Pennsylvania\", \"states_code\": \"PA\", \"state_abbv\": \"PA\", \"year\": 2014, \"population\": 12788313}, {\"id\": 44, \"states\": \"Rhode Island\", \"states_code\": \"RI\", \"state_abbv\": \"RI\", \"year\": 2014, \"population\": 1055936}, {\"id\": 45, \"states\": \"South Carolina\", \"states_code\": \"SC\", \"state_abbv\": \"SC\", \"year\": 2014, \"population\": 4823617}, {\"id\": 46, \"states\": \"South Dakota\", \"states_code\": \"SD\", \"state_abbv\": \"SD\", \"year\": 2014, \"population\": 849129}, {\"id\": 47, \"states\": \"Tennessee\", \"states_code\": \"TN\", \"state_abbv\": \"TN\", \"year\": 2014, \"population\": 6541223}, {\"id\": 48, \"states\": \"Texas\", \"states_code\": \"TX\", \"state_abbv\": \"TX\", \"year\": 2014, \"population\": 26964333}, {\"id\": 49, \"states\": \"Utah\", \"states_code\": \"UT\", \"state_abbv\": \"UT\", \"year\": 2014, \"population\": 2936879}, {\"id\": 50, \"states\": \"Vermont\", \"states_code\": \"VT\", \"state_abbv\": \"VT\", \"year\": 2014, \"population\": 625214}, {\"id\": 51, \"states\": \"Virginia\", \"states_code\": \"VA\", \"state_abbv\": \"VA\", \"year\": 2014, \"population\": 8310993}, {\"id\": 53, \"states\": \"Washington\", \"states_code\": \"WA\", \"state_abbv\": \"WA\", \"year\": 2014, \"population\": 7054655}, {\"id\": 54, \"states\": \"West Virginia\", \"states_code\": \"WV\", \"state_abbv\": \"WV\", \"year\": 2014, \"population\": 1849489}, {\"id\": 55, \"states\": \"Wisconsin\", \"states_code\": \"WI\", \"state_abbv\": \"WI\", \"year\": 2014, \"population\": 5751525}, {\"id\": 56, \"states\": \"Wyoming\", \"states_code\": \"WY\", \"state_abbv\": \"WY\", \"year\": 2014, \"population\": 582531}, {\"id\": 72, \"states\": \"Puerto Rico\", \"states_code\": \"PR\", \"state_abbv\": \"PR\", \"year\": 2014, \"population\": 3534874}, {\"id\": 1, \"states\": \"Alabama\", \"states_code\": \"AL\", \"state_abbv\": \"AL\", \"year\": 2015, \"population\": 4852347}, {\"id\": 2, \"states\": \"Alaska\", \"states_code\": \"AK\", \"state_abbv\": \"AK\", \"year\": 2015, \"population\": 737498}, {\"id\": 4, \"states\": \"Arizona\", \"states_code\": \"AZ\", \"state_abbv\": \"AZ\", \"year\": 2015, \"population\": 6829676}, {\"id\": 5, \"states\": \"Arkansas\", \"states_code\": \"AR\", \"state_abbv\": \"AR\", \"year\": 2015, \"population\": 2978048}, {\"id\": 6, \"states\": \"California\", \"states_code\": \"CA\", \"state_abbv\": \"CA\", \"year\": 2015, \"population\": 38918045}, {\"id\": 8, \"states\": \"Colorado\", \"states_code\": \"CO\", \"state_abbv\": \"CO\", \"year\": 2015, \"population\": 5450623}, {\"id\": 9, \"states\": \"Connecticut\", \"states_code\": \"CT\", \"state_abbv\": \"CT\", \"year\": 2015, \"population\": 3587122}, {\"id\": 10, \"states\": \"Delaware\", \"states_code\": \"DE\", \"state_abbv\": \"DE\", \"year\": 2015, \"population\": 941252}, {\"id\": 11, \"states\": \"District of Columbia\", \"states_code\": \"DC\", \"state_abbv\": null, \"year\": 2015, \"population\": 675400}, {\"id\": 12, \"states\": \"Florida\", \"states_code\": \"FL\", \"state_abbv\": \"FL\", \"year\": 2015, \"population\": 20209042}, {\"id\": 13, \"states\": \"Georgia\", \"states_code\": \"GA\", \"state_abbv\": \"GA\", \"year\": 2015, \"population\": 10178447}, {\"id\": 15, \"states\": \"Hawaii\", \"states_code\": \"HI\", \"state_abbv\": \"HI\", \"year\": 2015, \"population\": 1422052}, {\"id\": 16, \"states\": \"Idaho\", \"states_code\": \"ID\", \"state_abbv\": \"ID\", \"year\": 2015, \"population\": 1651059}, {\"id\": 17, \"states\": \"Illinois\", \"states_code\": \"IL\", \"state_abbv\": \"IL\", \"year\": 2015, \"population\": 12858913}, {\"id\": 18, \"states\": \"Indiana\", \"states_code\": \"IN\", \"state_abbv\": \"IN\", \"year\": 2015, \"population\": 6608422}, {\"id\": 19, \"states\": \"Iowa\", \"states_code\": \"IA\", \"state_abbv\": \"IA\", \"year\": 2015, \"population\": 3120960}, {\"id\": 20, \"states\": \"Kansas\", \"states_code\": \"KS\", \"state_abbv\": \"KS\", \"year\": 2015, \"population\": 2909011}, {\"id\": 21, \"states\": \"Kentucky\", \"states_code\": \"KY\", \"state_abbv\": \"KY\", \"year\": 2015, \"population\": 4425976}, {\"id\": 22, \"states\": \"Louisiana\", \"states_code\": \"LA\", \"state_abbv\": \"LA\", \"year\": 2015, \"population\": 4664628}, {\"id\": 23, \"states\": \"Maine\", \"states_code\": \"ME\", \"state_abbv\": \"ME\", \"year\": 2015, \"population\": 1328262}, {\"id\": 24, \"states\": \"Maryland\", \"states_code\": \"MD\", \"state_abbv\": \"MD\", \"year\": 2015, \"population\": 5985562}, {\"id\": 25, \"states\": \"Massachusetts\", \"states_code\": \"MA\", \"state_abbv\": \"MA\", \"year\": 2015, \"population\": 6794228}, {\"id\": 26, \"states\": \"Michigan\", \"states_code\": \"MI\", \"state_abbv\": \"MI\", \"year\": 2015, \"population\": 9931715}, {\"id\": 27, \"states\": \"Minnesota\", \"states_code\": \"MN\", \"state_abbv\": \"MN\", \"year\": 2015, \"population\": 5482032}, {\"id\": 28, \"states\": \"Mississippi\", \"states_code\": \"MS\", \"state_abbv\": \"MS\", \"year\": 2015, \"population\": 2988471}, {\"id\": 29, \"states\": \"Missouri\", \"states_code\": \"MO\", \"state_abbv\": \"MO\", \"year\": 2015, \"population\": 6071732}, {\"id\": 30, \"states\": \"Montana\", \"states_code\": \"MT\", \"state_abbv\": \"MT\", \"year\": 2015, \"population\": 1030475}, {\"id\": 31, \"states\": \"Nebraska\", \"states_code\": \"NE\", \"state_abbv\": \"NE\", \"year\": 2015, \"population\": 1891277}, {\"id\": 32, \"states\": \"Nevada\", \"states_code\": \"NV\", \"state_abbv\": \"NV\", \"year\": 2015, \"population\": 2866939}, {\"id\": 33, \"states\": \"New Hampshire\", \"states_code\": \"NH\", \"state_abbv\": \"NH\", \"year\": 2015, \"population\": 1336350}, {\"id\": 34, \"states\": \"New Jersey\", \"states_code\": \"NJ\", \"state_abbv\": \"NJ\", \"year\": 2015, \"population\": 8867949}, {\"id\": 35, \"states\": \"New Mexico\", \"states_code\": \"NM\", \"state_abbv\": \"NM\", \"year\": 2015, \"population\": 2089291}, {\"id\": 36, \"states\": \"New York\", \"states_code\": \"NY\", \"state_abbv\": \"NY\", \"year\": 2015, \"population\": 19654666}, {\"id\": 37, \"states\": \"North Carolina\", \"states_code\": \"NC\", \"state_abbv\": \"NC\", \"year\": 2015, \"population\": 10031646}, {\"id\": 38, \"states\": \"North Dakota\", \"states_code\": \"ND\", \"state_abbv\": \"ND\", \"year\": 2015, \"population\": 754066}, {\"id\": 39, \"states\": \"Ohio\", \"states_code\": \"OH\", \"state_abbv\": \"OH\", \"year\": 2015, \"population\": 11617527}, {\"id\": 40, \"states\": \"Oklahoma\", \"states_code\": \"OK\", \"state_abbv\": \"OK\", \"year\": 2015, \"population\": 3909500}, {\"id\": 41, \"states\": \"Oregon\", \"states_code\": \"OR\", \"state_abbv\": \"OR\", \"year\": 2015, \"population\": 4015792}, {\"id\": 42, \"states\": \"Pennsylvania\", \"states_code\": \"PA\", \"state_abbv\": \"PA\", \"year\": 2015, \"population\": 12784826}, {\"id\": 44, \"states\": \"Rhode Island\", \"states_code\": \"RI\", \"state_abbv\": \"RI\", \"year\": 2015, \"population\": 1056065}, {\"id\": 45, \"states\": \"South Carolina\", \"states_code\": \"SC\", \"state_abbv\": \"SC\", \"year\": 2015, \"population\": 4891938}, {\"id\": 46, \"states\": \"South Dakota\", \"states_code\": \"SD\", \"state_abbv\": \"SD\", \"year\": 2015, \"population\": 853988}, {\"id\": 47, \"states\": \"Tennessee\", \"states_code\": \"TN\", \"state_abbv\": \"TN\", \"year\": 2015, \"population\": 6591170}, {\"id\": 48, \"states\": \"Texas\", \"states_code\": \"TX\", \"state_abbv\": \"TX\", \"year\": 2015, \"population\": 27470056}, {\"id\": 49, \"states\": \"Utah\", \"states_code\": \"UT\", \"state_abbv\": \"UT\", \"year\": 2015, \"population\": 2981835}, {\"id\": 50, \"states\": \"Vermont\", \"states_code\": \"VT\", \"state_abbv\": \"VT\", \"year\": 2015, \"population\": 625216}, {\"id\": 51, \"states\": \"Virginia\", \"states_code\": \"VA\", \"state_abbv\": \"VA\", \"year\": 2015, \"population\": 8361808}, {\"id\": 53, \"states\": \"Washington\", \"states_code\": \"WA\", \"state_abbv\": \"WA\", \"year\": 2015, \"population\": 7163657}, {\"id\": 54, \"states\": \"West Virginia\", \"states_code\": \"WV\", \"state_abbv\": \"WV\", \"year\": 2015, \"population\": 1842050}, {\"id\": 55, \"states\": \"Wisconsin\", \"states_code\": \"WI\", \"state_abbv\": \"WI\", \"year\": 2015, \"population\": 5760940}, {\"id\": 56, \"states\": \"Wyoming\", \"states_code\": \"WY\", \"state_abbv\": \"WY\", \"year\": 2015, \"population\": 585613}, {\"id\": 72, \"states\": \"Puerto Rico\", \"states_code\": \"PR\", \"state_abbv\": \"PR\", \"year\": 2015, \"population\": 3473232}, {\"id\": 1, \"states\": \"Alabama\", \"states_code\": \"AL\", \"state_abbv\": \"AL\", \"year\": 2016, \"population\": 4863525}, {\"id\": 2, \"states\": \"Alaska\", \"states_code\": \"AK\", \"state_abbv\": \"AK\", \"year\": 2016, \"population\": 741456}, {\"id\": 4, \"states\": \"Arizona\", \"states_code\": \"AZ\", \"state_abbv\": \"AZ\", \"year\": 2016, \"population\": 6941072}, {\"id\": 5, \"states\": \"Arkansas\", \"states_code\": \"AR\", \"state_abbv\": \"AR\", \"year\": 2016, \"population\": 2989918}, {\"id\": 6, \"states\": \"California\", \"states_code\": \"CA\", \"state_abbv\": \"CA\", \"year\": 2016, \"population\": 39167117}, {\"id\": 8, \"states\": \"Colorado\", \"states_code\": \"CO\", \"state_abbv\": \"CO\", \"year\": 2016, \"population\": 5539215}, {\"id\": 9, \"states\": \"Connecticut\", \"states_code\": \"CT\", \"state_abbv\": \"CT\", \"year\": 2016, \"population\": 3578141}, {\"id\": 10, \"states\": \"Delaware\", \"states_code\": \"DE\", \"state_abbv\": \"DE\", \"year\": 2016, \"population\": 948921}, {\"id\": 11, \"states\": \"District of Columbia\", \"states_code\": \"DC\", \"state_abbv\": null, \"year\": 2016, \"population\": 685815}, {\"id\": 12, \"states\": \"Florida\", \"states_code\": \"FL\", \"state_abbv\": \"FL\", \"year\": 2016, \"population\": 20613477}, {\"id\": 13, \"states\": \"Georgia\", \"states_code\": \"GA\", \"state_abbv\": \"GA\", \"year\": 2016, \"population\": 10301890}, {\"id\": 15, \"states\": \"Hawaii\", \"states_code\": \"HI\", \"state_abbv\": \"HI\", \"year\": 2016, \"population\": 1427559}, {\"id\": 16, \"states\": \"Idaho\", \"states_code\": \"ID\", \"state_abbv\": \"ID\", \"year\": 2016, \"population\": 1682380}, {\"id\": 17, \"states\": \"Illinois\", \"states_code\": \"IL\", \"state_abbv\": \"IL\", \"year\": 2016, \"population\": 12820527}, {\"id\": 18, \"states\": \"Indiana\", \"states_code\": \"IN\", \"state_abbv\": \"IN\", \"year\": 2016, \"population\": 6634304}, {\"id\": 19, \"states\": \"Iowa\", \"states_code\": \"IA\", \"state_abbv\": \"IA\", \"year\": 2016, \"population\": 3131371}, {\"id\": 20, \"states\": \"Kansas\", \"states_code\": \"KS\", \"state_abbv\": \"KS\", \"year\": 2016, \"population\": 2910844}, {\"id\": 21, \"states\": \"Kentucky\", \"states_code\": \"KY\", \"state_abbv\": \"KY\", \"year\": 2016, \"population\": 4438182}, {\"id\": 22, \"states\": \"Louisiana\", \"states_code\": \"LA\", \"state_abbv\": \"LA\", \"year\": 2016, \"population\": 4678135}, {\"id\": 23, \"states\": \"Maine\", \"states_code\": \"ME\", \"state_abbv\": \"ME\", \"year\": 2016, \"population\": 1331317}, {\"id\": 24, \"states\": \"Maryland\", \"states_code\": \"MD\", \"state_abbv\": \"MD\", \"year\": 2016, \"population\": 6003323}, {\"id\": 25, \"states\": \"Massachusetts\", \"states_code\": \"MA\", \"state_abbv\": \"MA\", \"year\": 2016, \"population\": 6823608}, {\"id\": 26, \"states\": \"Michigan\", \"states_code\": \"MI\", \"state_abbv\": \"MI\", \"year\": 2016, \"population\": 9950571}, {\"id\": 27, \"states\": \"Minnesota\", \"states_code\": \"MN\", \"state_abbv\": \"MN\", \"year\": 2016, \"population\": 5522744}, {\"id\": 28, \"states\": \"Mississippi\", \"states_code\": \"MS\", \"state_abbv\": \"MS\", \"year\": 2016, \"population\": 2987938}, {\"id\": 29, \"states\": \"Missouri\", \"states_code\": \"MO\", \"state_abbv\": \"MO\", \"year\": 2016, \"population\": 6087135}, {\"id\": 30, \"states\": \"Montana\", \"states_code\": \"MT\", \"state_abbv\": \"MT\", \"year\": 2016, \"population\": 1040859}, {\"id\": 31, \"states\": \"Nebraska\", \"states_code\": \"NE\", \"state_abbv\": \"NE\", \"year\": 2016, \"population\": 1905616}, {\"id\": 32, \"states\": \"Nevada\", \"states_code\": \"NV\", \"state_abbv\": \"NV\", \"year\": 2016, \"population\": 2917563}, {\"id\": 33, \"states\": \"New Hampshire\", \"states_code\": \"NH\", \"state_abbv\": \"NH\", \"year\": 2016, \"population\": 1342307}, {\"id\": 34, \"states\": \"New Jersey\", \"states_code\": \"NJ\", \"state_abbv\": \"NJ\", \"year\": 2016, \"population\": 8870827}, {\"id\": 35, \"states\": \"New Mexico\", \"states_code\": \"NM\", \"state_abbv\": \"NM\", \"year\": 2016, \"population\": 2091630}, {\"id\": 36, \"states\": \"New York\", \"states_code\": \"NY\", \"state_abbv\": \"NY\", \"year\": 2016, \"population\": 19633428}, {\"id\": 37, \"states\": \"North Carolina\", \"states_code\": \"NC\", \"state_abbv\": \"NC\", \"year\": 2016, \"population\": 10154788}, {\"id\": 38, \"states\": \"North Dakota\", \"states_code\": \"ND\", \"state_abbv\": \"ND\", \"year\": 2016, \"population\": 754434}, {\"id\": 39, \"states\": \"Ohio\", \"states_code\": \"OH\", \"state_abbv\": \"OH\", \"year\": 2016, \"population\": 11634370}, {\"id\": 40, \"states\": \"Oklahoma\", \"states_code\": \"OK\", \"state_abbv\": \"OK\", \"year\": 2016, \"population\": 3926331}, {\"id\": 41, \"states\": \"Oregon\", \"states_code\": \"OR\", \"state_abbv\": \"OR\", \"year\": 2016, \"population\": 4089976}, {\"id\": 42, \"states\": \"Pennsylvania\", \"states_code\": \"PA\", \"state_abbv\": \"PA\", \"year\": 2016, \"population\": 12782275}, {\"id\": 44, \"states\": \"Rhode Island\", \"states_code\": \"RI\", \"state_abbv\": \"RI\", \"year\": 2016, \"population\": 1056770}, {\"id\": 45, \"states\": \"South Carolina\", \"states_code\": \"SC\", \"state_abbv\": \"SC\", \"year\": 2016, \"population\": 4957968}, {\"id\": 46, \"states\": \"South Dakota\", \"states_code\": \"SD\", \"state_abbv\": \"SD\", \"year\": 2016, \"population\": 862996}, {\"id\": 47, \"states\": \"Tennessee\", \"states_code\": \"TN\", \"state_abbv\": \"TN\", \"year\": 2016, \"population\": 6646010}, {\"id\": 48, \"states\": \"Texas\", \"states_code\": \"TX\", \"state_abbv\": \"TX\", \"year\": 2016, \"population\": 27914410}, {\"id\": 49, \"states\": \"Utah\", \"states_code\": \"UT\", \"state_abbv\": \"UT\", \"year\": 2016, \"population\": 3041868}, {\"id\": 50, \"states\": \"Vermont\", \"states_code\": \"VT\", \"state_abbv\": \"VT\", \"year\": 2016, \"population\": 623657}, {\"id\": 51, \"states\": \"Virginia\", \"states_code\": \"VA\", \"state_abbv\": \"VA\", \"year\": 2016, \"population\": 8410106}, {\"id\": 53, \"states\": \"Washington\", \"states_code\": \"WA\", \"state_abbv\": \"WA\", \"year\": 2016, \"population\": 7294771}, {\"id\": 54, \"states\": \"West Virginia\", \"states_code\": \"WV\", \"state_abbv\": \"WV\", \"year\": 2016, \"population\": 1831023}, {\"id\": 55, \"states\": \"Wisconsin\", \"states_code\": \"WI\", \"state_abbv\": \"WI\", \"year\": 2016, \"population\": 5772628}, {\"id\": 56, \"states\": \"Wyoming\", \"states_code\": \"WY\", \"state_abbv\": \"WY\", \"year\": 2016, \"population\": 584215}, {\"id\": 72, \"states\": \"Puerto Rico\", \"states_code\": \"PR\", \"state_abbv\": \"PR\", \"year\": 2016, \"population\": 3406672}, {\"id\": 1, \"states\": \"Alabama\", \"states_code\": \"AL\", \"state_abbv\": \"AL\", \"year\": 2017, \"population\": 4874486}, {\"id\": 2, \"states\": \"Alaska\", \"states_code\": \"AK\", \"state_abbv\": \"AK\", \"year\": 2017, \"population\": 739700}, {\"id\": 4, \"states\": \"Arizona\", \"states_code\": \"AZ\", \"state_abbv\": \"AZ\", \"year\": 2017, \"population\": 7044008}, {\"id\": 5, \"states\": \"Arkansas\", \"states_code\": \"AR\", \"state_abbv\": \"AR\", \"year\": 2017, \"population\": 3001345}, {\"id\": 6, \"states\": \"California\", \"states_code\": \"CA\", \"state_abbv\": \"CA\", \"year\": 2017, \"population\": 39358497}, {\"id\": 8, \"states\": \"Colorado\", \"states_code\": \"CO\", \"state_abbv\": \"CO\", \"year\": 2017, \"population\": 5611885}, {\"id\": 9, \"states\": \"Connecticut\", \"states_code\": \"CT\", \"state_abbv\": \"CT\", \"year\": 2017, \"population\": 3573297}, {\"id\": 10, \"states\": \"Delaware\", \"states_code\": \"DE\", \"state_abbv\": \"DE\", \"year\": 2017, \"population\": 956823}, {\"id\": 11, \"states\": \"District of Columbia\", \"states_code\": \"DC\", \"state_abbv\": null, \"year\": 2017, \"population\": 694906}, {\"id\": 12, \"states\": \"Florida\", \"states_code\": \"FL\", \"state_abbv\": \"FL\", \"year\": 2017, \"population\": 20963613}, {\"id\": 13, \"states\": \"Georgia\", \"states_code\": \"GA\", \"state_abbv\": \"GA\", \"year\": 2017, \"population\": 10410330}, {\"id\": 15, \"states\": \"Hawaii\", \"states_code\": \"HI\", \"state_abbv\": \"HI\", \"year\": 2017, \"population\": 1424393}, {\"id\": 16, \"states\": \"Idaho\", \"states_code\": \"ID\", \"state_abbv\": \"ID\", \"year\": 2017, \"population\": 1717715}, {\"id\": 17, \"states\": \"Illinois\", \"states_code\": \"IL\", \"state_abbv\": \"IL\", \"year\": 2017, \"population\": 12778828}, {\"id\": 18, \"states\": \"Indiana\", \"states_code\": \"IN\", \"state_abbv\": \"IN\", \"year\": 2017, \"population\": 6658078}, {\"id\": 19, \"states\": \"Iowa\", \"states_code\": \"IA\", \"state_abbv\": \"IA\", \"year\": 2017, \"population\": 3141550}, {\"id\": 20, \"states\": \"Kansas\", \"states_code\": \"KS\", \"state_abbv\": \"KS\", \"year\": 2017, \"population\": 2908718}, {\"id\": 21, \"states\": \"Kentucky\", \"states_code\": \"KY\", \"state_abbv\": \"KY\", \"year\": 2017, \"population\": 4452268}, {\"id\": 22, \"states\": \"Louisiana\", \"states_code\": \"LA\", \"state_abbv\": \"LA\", \"year\": 2017, \"population\": 4670560}, {\"id\": 23, \"states\": \"Maine\", \"states_code\": \"ME\", \"state_abbv\": \"ME\", \"year\": 2017, \"population\": 1334612}, {\"id\": 24, \"states\": \"Maryland\", \"states_code\": \"MD\", \"state_abbv\": \"MD\", \"year\": 2017, \"population\": 6023868}, {\"id\": 25, \"states\": \"Massachusetts\", \"states_code\": \"MA\", \"state_abbv\": \"MA\", \"year\": 2017, \"population\": 6859789}, {\"id\": 26, \"states\": \"Michigan\", \"states_code\": \"MI\", \"state_abbv\": \"MI\", \"year\": 2017, \"population\": 9973114}, {\"id\": 27, \"states\": \"Minnesota\", \"states_code\": \"MN\", \"state_abbv\": \"MN\", \"year\": 2017, \"population\": 5566230}, {\"id\": 28, \"states\": \"Mississippi\", \"states_code\": \"MS\", \"state_abbv\": \"MS\", \"year\": 2017, \"population\": 2988510}, {\"id\": 29, \"states\": \"Missouri\", \"states_code\": \"MO\", \"state_abbv\": \"MO\", \"year\": 2017, \"population\": 6106670}, {\"id\": 30, \"states\": \"Montana\", \"states_code\": \"MT\", \"state_abbv\": \"MT\", \"year\": 2017, \"population\": 1052482}, {\"id\": 31, \"states\": \"Nebraska\", \"states_code\": \"NE\", \"state_abbv\": \"NE\", \"year\": 2017, \"population\": 1915947}, {\"id\": 32, \"states\": \"Nevada\", \"states_code\": \"NV\", \"state_abbv\": \"NV\", \"year\": 2017, \"population\": 2969905}, {\"id\": 33, \"states\": \"New Hampshire\", \"states_code\": \"NH\", \"state_abbv\": \"NH\", \"year\": 2017, \"population\": 1348787}, {\"id\": 34, \"states\": \"New Jersey\", \"states_code\": \"NJ\", \"state_abbv\": \"NJ\", \"year\": 2017, \"population\": 8885525}, {\"id\": 35, \"states\": \"New Mexico\", \"states_code\": \"NM\", \"state_abbv\": \"NM\", \"year\": 2017, \"population\": 2091784}, {\"id\": 36, \"states\": \"New York\", \"states_code\": \"NY\", \"state_abbv\": \"NY\", \"year\": 2017, \"population\": 19589572}, {\"id\": 37, \"states\": \"North Carolina\", \"states_code\": \"NC\", \"state_abbv\": \"NC\", \"year\": 2017, \"population\": 10268233}, {\"id\": 38, \"states\": \"North Dakota\", \"states_code\": \"ND\", \"state_abbv\": \"ND\", \"year\": 2017, \"population\": 754942}, {\"id\": 39, \"states\": \"Ohio\", \"states_code\": \"OH\", \"state_abbv\": \"OH\", \"year\": 2017, \"population\": 11659650}, {\"id\": 40, \"states\": \"Oklahoma\", \"states_code\": \"OK\", \"state_abbv\": \"OK\", \"year\": 2017, \"population\": 3931316}, {\"id\": 41, \"states\": \"Oregon\", \"states_code\": \"OR\", \"state_abbv\": \"OR\", \"year\": 2017, \"population\": 4143625}, {\"id\": 42, \"states\": \"Pennsylvania\", \"states_code\": \"PA\", \"state_abbv\": \"PA\", \"year\": 2017, \"population\": 12787641}, {\"id\": 44, \"states\": \"Rhode Island\", \"states_code\": \"RI\", \"state_abbv\": \"RI\", \"year\": 2017, \"population\": 1055673}, {\"id\": 45, \"states\": \"South Carolina\", \"states_code\": \"SC\", \"state_abbv\": \"SC\", \"year\": 2017, \"population\": 5021268}, {\"id\": 46, \"states\": \"South Dakota\", \"states_code\": \"SD\", \"state_abbv\": \"SD\", \"year\": 2017, \"population\": 872868}, {\"id\": 47, \"states\": \"Tennessee\", \"states_code\": \"TN\", \"state_abbv\": \"TN\", \"year\": 2017, \"population\": 6708799}, {\"id\": 48, \"states\": \"Texas\", \"states_code\": \"TX\", \"state_abbv\": \"TX\", \"year\": 2017, \"population\": 28295273}, {\"id\": 49, \"states\": \"Utah\", \"states_code\": \"UT\", \"state_abbv\": \"UT\", \"year\": 2017, \"population\": 3101042}, {\"id\": 50, \"states\": \"Vermont\", \"states_code\": \"VT\", \"state_abbv\": \"VT\", \"year\": 2017, \"population\": 624344}, {\"id\": 51, \"states\": \"Virginia\", \"states_code\": \"VA\", \"state_abbv\": \"VA\", \"year\": 2017, \"population\": 8463587}, {\"id\": 53, \"states\": \"Washington\", \"states_code\": \"WA\", \"state_abbv\": \"WA\", \"year\": 2017, \"population\": 7423362}, {\"id\": 54, \"states\": \"West Virginia\", \"states_code\": \"WV\", \"state_abbv\": \"WV\", \"year\": 2017, \"population\": 1817004}, {\"id\": 55, \"states\": \"Wisconsin\", \"states_code\": \"WI\", \"state_abbv\": \"WI\", \"year\": 2017, \"population\": 5790186}, {\"id\": 56, \"states\": \"Wyoming\", \"states_code\": \"WY\", \"state_abbv\": \"WY\", \"year\": 2017, \"population\": 578931}, {\"id\": 72, \"states\": \"Puerto Rico\", \"states_code\": \"PR\", \"state_abbv\": \"PR\", \"year\": 2017, \"population\": 3325286}, {\"id\": 1, \"states\": \"Alabama\", \"states_code\": \"AL\", \"state_abbv\": \"AL\", \"year\": 2018, \"population\": 4887681}, {\"id\": 2, \"states\": \"Alaska\", \"states_code\": \"AK\", \"state_abbv\": \"AK\", \"year\": 2018, \"population\": 735139}, {\"id\": 4, \"states\": \"Arizona\", \"states_code\": \"AZ\", \"state_abbv\": \"AZ\", \"year\": 2018, \"population\": 7158024}, {\"id\": 5, \"states\": \"Arkansas\", \"states_code\": \"AR\", \"state_abbv\": \"AR\", \"year\": 2018, \"population\": 3009733}, {\"id\": 6, \"states\": \"California\", \"states_code\": \"CA\", \"state_abbv\": \"CA\", \"year\": 2018, \"population\": 39461588}, {\"id\": 8, \"states\": \"Colorado\", \"states_code\": \"CO\", \"state_abbv\": \"CO\", \"year\": 2018, \"population\": 5691287}, {\"id\": 9, \"states\": \"Connecticut\", \"states_code\": \"CT\", \"state_abbv\": \"CT\", \"year\": 2018, \"population\": 3571520}, {\"id\": 10, \"states\": \"Delaware\", \"states_code\": \"DE\", \"state_abbv\": \"DE\", \"year\": 2018, \"population\": 965479}, {\"id\": 11, \"states\": \"District of Columbia\", \"states_code\": \"DC\", \"state_abbv\": null, \"year\": 2018, \"population\": 701547}, {\"id\": 12, \"states\": \"Florida\", \"states_code\": \"FL\", \"state_abbv\": \"FL\", \"year\": 2018, \"population\": 21244317}, {\"id\": 13, \"states\": \"Georgia\", \"states_code\": \"GA\", \"state_abbv\": \"GA\", \"year\": 2018, \"population\": 10511131}, {\"id\": 15, \"states\": \"Hawaii\", \"states_code\": \"HI\", \"state_abbv\": \"HI\", \"year\": 2018, \"population\": 1420593}, {\"id\": 16, \"states\": \"Idaho\", \"states_code\": \"ID\", \"state_abbv\": \"ID\", \"year\": 2018, \"population\": 1750536}, {\"id\": 17, \"states\": \"Illinois\", \"states_code\": \"IL\", \"state_abbv\": \"IL\", \"year\": 2018, \"population\": 12723071}, {\"id\": 18, \"states\": \"Indiana\", \"states_code\": \"IN\", \"state_abbv\": \"IN\", \"year\": 2018, \"population\": 6695497}, {\"id\": 19, \"states\": \"Iowa\", \"states_code\": \"IA\", \"state_abbv\": \"IA\", \"year\": 2018, \"population\": 3148618}, {\"id\": 20, \"states\": \"Kansas\", \"states_code\": \"KS\", \"state_abbv\": \"KS\", \"year\": 2018, \"population\": 2911359}, {\"id\": 21, \"states\": \"Kentucky\", \"states_code\": \"KY\", \"state_abbv\": \"KY\", \"year\": 2018, \"population\": 4461153}, {\"id\": 22, \"states\": \"Louisiana\", \"states_code\": \"LA\", \"state_abbv\": \"LA\", \"year\": 2018, \"population\": 4659690}, {\"id\": 23, \"states\": \"Maine\", \"states_code\": \"ME\", \"state_abbv\": \"ME\", \"year\": 2018, \"population\": 1339057}, {\"id\": 24, \"states\": \"Maryland\", \"states_code\": \"MD\", \"state_abbv\": \"MD\", \"year\": 2018, \"population\": 6035802}, {\"id\": 25, \"states\": \"Massachusetts\", \"states_code\": \"MA\", \"state_abbv\": \"MA\", \"year\": 2018, \"population\": 6882635}, {\"id\": 26, \"states\": \"Michigan\", \"states_code\": \"MI\", \"state_abbv\": \"MI\", \"year\": 2018, \"population\": 9984072}, {\"id\": 27, \"states\": \"Minnesota\", \"states_code\": \"MN\", \"state_abbv\": \"MN\", \"year\": 2018, \"population\": 5606249}, {\"id\": 28, \"states\": \"Mississippi\", \"states_code\": \"MS\", \"state_abbv\": \"MS\", \"year\": 2018, \"population\": 2981020}, {\"id\": 29, \"states\": \"Missouri\", \"states_code\": \"MO\", \"state_abbv\": \"MO\", \"year\": 2018, \"population\": 6121623}, {\"id\": 30, \"states\": \"Montana\", \"states_code\": \"MT\", \"state_abbv\": \"MT\", \"year\": 2018, \"population\": 1060665}, {\"id\": 31, \"states\": \"Nebraska\", \"states_code\": \"NE\", \"state_abbv\": \"NE\", \"year\": 2018, \"population\": 1925614}, {\"id\": 32, \"states\": \"Nevada\", \"states_code\": \"NV\", \"state_abbv\": \"NV\", \"year\": 2018, \"population\": 3027341}, {\"id\": 33, \"states\": \"New Hampshire\", \"states_code\": \"NH\", \"state_abbv\": \"NH\", \"year\": 2018, \"population\": 1353465}, {\"id\": 34, \"states\": \"New Jersey\", \"states_code\": \"NJ\", \"state_abbv\": \"NJ\", \"year\": 2018, \"population\": 8886025}, {\"id\": 35, \"states\": \"New Mexico\", \"states_code\": \"NM\", \"state_abbv\": \"NM\", \"year\": 2018, \"population\": 2092741}, {\"id\": 36, \"states\": \"New York\", \"states_code\": \"NY\", \"state_abbv\": \"NY\", \"year\": 2018, \"population\": 19530351}, {\"id\": 37, \"states\": \"North Carolina\", \"states_code\": \"NC\", \"state_abbv\": \"NC\", \"year\": 2018, \"population\": 10381615}, {\"id\": 38, \"states\": \"North Dakota\", \"states_code\": \"ND\", \"state_abbv\": \"ND\", \"year\": 2018, \"population\": 758080}, {\"id\": 39, \"states\": \"Ohio\", \"states_code\": \"OH\", \"state_abbv\": \"OH\", \"year\": 2018, \"population\": 11676341}, {\"id\": 40, \"states\": \"Oklahoma\", \"states_code\": \"OK\", \"state_abbv\": \"OK\", \"year\": 2018, \"population\": 3940235}, {\"id\": 41, \"states\": \"Oregon\", \"states_code\": \"OR\", \"state_abbv\": \"OR\", \"year\": 2018, \"population\": 4181886}, {\"id\": 42, \"states\": \"Pennsylvania\", \"states_code\": \"PA\", \"state_abbv\": \"PA\", \"year\": 2018, \"population\": 12800922}, {\"id\": 44, \"states\": \"Rhode Island\", \"states_code\": \"RI\", \"state_abbv\": \"RI\", \"year\": 2018, \"population\": 1058287}, {\"id\": 45, \"states\": \"South Carolina\", \"states_code\": \"SC\", \"state_abbv\": \"SC\", \"year\": 2018, \"population\": 5084156}, {\"id\": 46, \"states\": \"South Dakota\", \"states_code\": \"SD\", \"state_abbv\": \"SD\", \"year\": 2018, \"population\": 878698}, {\"id\": 47, \"states\": \"Tennessee\", \"states_code\": \"TN\", \"state_abbv\": \"TN\", \"year\": 2018, \"population\": 6771631}, {\"id\": 48, \"states\": \"Texas\", \"states_code\": \"TX\", \"state_abbv\": \"TX\", \"year\": 2018, \"population\": 28628666}, {\"id\": 49, \"states\": \"Utah\", \"states_code\": \"UT\", \"state_abbv\": \"UT\", \"year\": 2018, \"population\": 3153550}, {\"id\": 50, \"states\": \"Vermont\", \"states_code\": \"VT\", \"state_abbv\": \"VT\", \"year\": 2018, \"population\": 624358}, {\"id\": 51, \"states\": \"Virginia\", \"states_code\": \"VA\", \"state_abbv\": \"VA\", \"year\": 2018, \"population\": 8501286}, {\"id\": 53, \"states\": \"Washington\", \"states_code\": \"WA\", \"state_abbv\": \"WA\", \"year\": 2018, \"population\": 7523869}, {\"id\": 54, \"states\": \"West Virginia\", \"states_code\": \"WV\", \"state_abbv\": \"WV\", \"year\": 2018, \"population\": 1804291}, {\"id\": 55, \"states\": \"Wisconsin\", \"states_code\": \"WI\", \"state_abbv\": \"WI\", \"year\": 2018, \"population\": 5807406}, {\"id\": 56, \"states\": \"Wyoming\", \"states_code\": \"WY\", \"state_abbv\": \"WY\", \"year\": 2018, \"population\": 577601}, {\"id\": 72, \"states\": \"Puerto Rico\", \"states_code\": \"PR\", \"state_abbv\": \"PR\", \"year\": 2018, \"population\": 3193354}, {\"id\": 1, \"states\": \"Alabama\", \"states_code\": \"AL\", \"state_abbv\": \"AL\", \"year\": 2019, \"population\": 4903185}, {\"id\": 2, \"states\": \"Alaska\", \"states_code\": \"AK\", \"state_abbv\": \"AK\", \"year\": 2019, \"population\": 731545}, {\"id\": 4, \"states\": \"Arizona\", \"states_code\": \"AZ\", \"state_abbv\": \"AZ\", \"year\": 2019, \"population\": 7278717}, {\"id\": 5, \"states\": \"Arkansas\", \"states_code\": \"AR\", \"state_abbv\": \"AR\", \"year\": 2019, \"population\": 3017804}, {\"id\": 6, \"states\": \"California\", \"states_code\": \"CA\", \"state_abbv\": \"CA\", \"year\": 2019, \"population\": 39512223}, {\"id\": 8, \"states\": \"Colorado\", \"states_code\": \"CO\", \"state_abbv\": \"CO\", \"year\": 2019, \"population\": 5758736}, {\"id\": 9, \"states\": \"Connecticut\", \"states_code\": \"CT\", \"state_abbv\": \"CT\", \"year\": 2019, \"population\": 3565287}, {\"id\": 10, \"states\": \"Delaware\", \"states_code\": \"DE\", \"state_abbv\": \"DE\", \"year\": 2019, \"population\": 973764}, {\"id\": 11, \"states\": \"District of Columbia\", \"states_code\": \"DC\", \"state_abbv\": null, \"year\": 2019, \"population\": 705749}, {\"id\": 12, \"states\": \"Florida\", \"states_code\": \"FL\", \"state_abbv\": \"FL\", \"year\": 2019, \"population\": 21477737}, {\"id\": 13, \"states\": \"Georgia\", \"states_code\": \"GA\", \"state_abbv\": \"GA\", \"year\": 2019, \"population\": 10617423}, {\"id\": 15, \"states\": \"Hawaii\", \"states_code\": \"HI\", \"state_abbv\": \"HI\", \"year\": 2019, \"population\": 1415872}, {\"id\": 16, \"states\": \"Idaho\", \"states_code\": \"ID\", \"state_abbv\": \"ID\", \"year\": 2019, \"population\": 1787065}, {\"id\": 17, \"states\": \"Illinois\", \"states_code\": \"IL\", \"state_abbv\": \"IL\", \"year\": 2019, \"population\": 12671821}, {\"id\": 18, \"states\": \"Indiana\", \"states_code\": \"IN\", \"state_abbv\": \"IN\", \"year\": 2019, \"population\": 6732219}, {\"id\": 19, \"states\": \"Iowa\", \"states_code\": \"IA\", \"state_abbv\": \"IA\", \"year\": 2019, \"population\": 3155070}, {\"id\": 20, \"states\": \"Kansas\", \"states_code\": \"KS\", \"state_abbv\": \"KS\", \"year\": 2019, \"population\": 2913314}, {\"id\": 21, \"states\": \"Kentucky\", \"states_code\": \"KY\", \"state_abbv\": \"KY\", \"year\": 2019, \"population\": 4467673}, {\"id\": 22, \"states\": \"Louisiana\", \"states_code\": \"LA\", \"state_abbv\": \"LA\", \"year\": 2019, \"population\": 4648794}, {\"id\": 23, \"states\": \"Maine\", \"states_code\": \"ME\", \"state_abbv\": \"ME\", \"year\": 2019, \"population\": 1344212}, {\"id\": 24, \"states\": \"Maryland\", \"states_code\": \"MD\", \"state_abbv\": \"MD\", \"year\": 2019, \"population\": 6045680}, {\"id\": 25, \"states\": \"Massachusetts\", \"states_code\": \"MA\", \"state_abbv\": \"MA\", \"year\": 2019, \"population\": 6892503}, {\"id\": 26, \"states\": \"Michigan\", \"states_code\": \"MI\", \"state_abbv\": \"MI\", \"year\": 2019, \"population\": 9986857}, {\"id\": 27, \"states\": \"Minnesota\", \"states_code\": \"MN\", \"state_abbv\": \"MN\", \"year\": 2019, \"population\": 5639632}, {\"id\": 28, \"states\": \"Mississippi\", \"states_code\": \"MS\", \"state_abbv\": \"MS\", \"year\": 2019, \"population\": 2976149}, {\"id\": 29, \"states\": \"Missouri\", \"states_code\": \"MO\", \"state_abbv\": \"MO\", \"year\": 2019, \"population\": 6137428}, {\"id\": 30, \"states\": \"Montana\", \"states_code\": \"MT\", \"state_abbv\": \"MT\", \"year\": 2019, \"population\": 1068778}, {\"id\": 31, \"states\": \"Nebraska\", \"states_code\": \"NE\", \"state_abbv\": \"NE\", \"year\": 2019, \"population\": 1934408}, {\"id\": 32, \"states\": \"Nevada\", \"states_code\": \"NV\", \"state_abbv\": \"NV\", \"year\": 2019, \"population\": 3080156}, {\"id\": 33, \"states\": \"New Hampshire\", \"states_code\": \"NH\", \"state_abbv\": \"NH\", \"year\": 2019, \"population\": 1359711}, {\"id\": 34, \"states\": \"New Jersey\", \"states_code\": \"NJ\", \"state_abbv\": \"NJ\", \"year\": 2019, \"population\": 8882190}, {\"id\": 35, \"states\": \"New Mexico\", \"states_code\": \"NM\", \"state_abbv\": \"NM\", \"year\": 2019, \"population\": 2096829}, {\"id\": 36, \"states\": \"New York\", \"states_code\": \"NY\", \"state_abbv\": \"NY\", \"year\": 2019, \"population\": 19453561}, {\"id\": 37, \"states\": \"North Carolina\", \"states_code\": \"NC\", \"state_abbv\": \"NC\", \"year\": 2019, \"population\": 10488084}, {\"id\": 38, \"states\": \"North Dakota\", \"states_code\": \"ND\", \"state_abbv\": \"ND\", \"year\": 2019, \"population\": 762062}, {\"id\": 39, \"states\": \"Ohio\", \"states_code\": \"OH\", \"state_abbv\": \"OH\", \"year\": 2019, \"population\": 11689100}, {\"id\": 40, \"states\": \"Oklahoma\", \"states_code\": \"OK\", \"state_abbv\": \"OK\", \"year\": 2019, \"population\": 3956971}, {\"id\": 41, \"states\": \"Oregon\", \"states_code\": \"OR\", \"state_abbv\": \"OR\", \"year\": 2019, \"population\": 4217737}, {\"id\": 42, \"states\": \"Pennsylvania\", \"states_code\": \"PA\", \"state_abbv\": \"PA\", \"year\": 2019, \"population\": 12801989}, {\"id\": 44, \"states\": \"Rhode Island\", \"states_code\": \"RI\", \"state_abbv\": \"RI\", \"year\": 2019, \"population\": 1059361}, {\"id\": 45, \"states\": \"South Carolina\", \"states_code\": \"SC\", \"state_abbv\": \"SC\", \"year\": 2019, \"population\": 5148714}, {\"id\": 46, \"states\": \"South Dakota\", \"states_code\": \"SD\", \"state_abbv\": \"SD\", \"year\": 2019, \"population\": 884659}, {\"id\": 47, \"states\": \"Tennessee\", \"states_code\": \"TN\", \"state_abbv\": \"TN\", \"year\": 2019, \"population\": 6829174}, {\"id\": 48, \"states\": \"Texas\", \"states_code\": \"TX\", \"state_abbv\": \"TX\", \"year\": 2019, \"population\": 28995881}, {\"id\": 49, \"states\": \"Utah\", \"states_code\": \"UT\", \"state_abbv\": \"UT\", \"year\": 2019, \"population\": 3205958}, {\"id\": 50, \"states\": \"Vermont\", \"states_code\": \"VT\", \"state_abbv\": \"VT\", \"year\": 2019, \"population\": 623989}, {\"id\": 51, \"states\": \"Virginia\", \"states_code\": \"VA\", \"state_abbv\": \"VA\", \"year\": 2019, \"population\": 8535519}, {\"id\": 53, \"states\": \"Washington\", \"states_code\": \"WA\", \"state_abbv\": \"WA\", \"year\": 2019, \"population\": 7614893}, {\"id\": 54, \"states\": \"West Virginia\", \"states_code\": \"WV\", \"state_abbv\": \"WV\", \"year\": 2019, \"population\": 1792147}, {\"id\": 55, \"states\": \"Wisconsin\", \"states_code\": \"WI\", \"state_abbv\": \"WI\", \"year\": 2019, \"population\": 5822434}, {\"id\": 56, \"states\": \"Wyoming\", \"states_code\": \"WY\", \"state_abbv\": \"WY\", \"year\": 2019, \"population\": 578759}, {\"id\": 72, \"states\": \"Puerto Rico\", \"states_code\": \"PR\", \"state_abbv\": \"PR\", \"year\": 2019, \"population\": 3193694}]}}, {\"mode\": \"vega-lite\"});\n",
       "</script>"
      ],
      "text/plain": [
       "alt.Chart(...)"
      ]
     },
     "execution_count": 123,
     "metadata": {},
     "output_type": "execute_result"
    }
   ],
   "source": [
    "#!pip install altair\n",
    "import altair as alt\n",
    "\n",
    "alt.themes.enable(\"dark\")\n",
    "\n",
    "heatmap = alt.Chart(df_reshaped).mark_rect().encode(\n",
    "        y=alt.Y('year:O', axis=alt.Axis(title=\"Year\", titleFontSize=16, titlePadding=15, titleFontWeight=900, labelAngle=0)),\n",
    "        x=alt.X('states:O', axis=alt.Axis(title=\"States\", titleFontSize=16, titlePadding=15, titleFontWeight=900)),\n",
    "        color=alt.Color('max(population):Q',\n",
    "                         legend=alt.Legend(title=\" \"),\n",
    "                         scale=alt.Scale(scheme=\"blueorange\")),\n",
    "        stroke=alt.value('black'),\n",
    "        strokeWidth=alt.value(0.25),\n",
    "        #tooltip=[\n",
    "        #    alt.Tooltip('year:O', title='Year'),\n",
    "        #    alt.Tooltip('population:Q', title='Population')\n",
    "        #]\n",
    "    ).properties(width=900\n",
    "    #).configure_legend(orient='bottom', titleFontSize=16, labelFontSize=14, titlePadding=0\n",
    "    #).configure_axisX(labelFontSize=14)\n",
    "    ).configure_axis(\n",
    "    labelFontSize=12,\n",
    "    titleFontSize=12\n",
    "    )\n",
    "\n",
    "heatmap"
   ]
  },
  {
   "cell_type": "markdown",
   "metadata": {
    "id": "69oYy6edR4V7"
   },
   "source": [
    "### Choropleth: Run the following code to get a map of the population for the selected year above"
   ]
  },
  {
   "cell_type": "code",
   "execution_count": null,
   "metadata": {
    "colab": {
     "base_uri": "https://localhost:8080/",
     "height": 331
    },
    "id": "rCT-THXqdc2e",
    "is_executing": true,
    "outputId": "ef2d0b90-45d8-496c-8176-96fba73623b6"
   },
   "outputs": [],
   "source": [
    "# Choropleth via Altair\n",
    "#!pip install vega_datasets\n",
    "import altair as alt\n",
    "from vega_datasets import data\n",
    "\n",
    "alt.themes.enable(\"dark\")\n",
    "\n",
    "states = alt.topo_feature(data.us_10m.url, 'states')\n",
    "\n",
    "alt.Chart(states).mark_geoshape().encode(\n",
    "    color=alt.Color('population:Q', scale=alt.Scale(scheme='blues')),   # scale=color_scale\n",
    "    stroke=alt.value('#154360')\n",
    ").transform_lookup(\n",
    "    lookup='id',\n",
    "    from_=alt.LookupData(df_selected_year, 'id', list(df_selected_year.columns))\n",
    ").properties(\n",
    "    width=500,\n",
    "    height=300\n",
    ").project(\n",
    "    type='albersUsa'\n",
    ")\n",
    "\n"
   ]
  },
  {
   "cell_type": "markdown",
   "metadata": {},
   "source": [
    "Pycharm:\n",
    "Create a pdf reader streamlit app in pycharm using the following code.Upload some pdfs and perform some queries. \n",
    "Below capture 5 queries and 5 responses. Check to make sure the responses are accurate. See if you can get your app to fail. Analyze why."
   ]
  },
  {
   "cell_type": "code",
   "execution_count": 1,
   "metadata": {},
   "outputs": [
    {
     "name": "stderr",
     "output_type": "stream",
     "text": [
      "2024-04-26 22:52:00.621 WARNING streamlit.runtime.state.session_state_proxy: Session state does not function when running a script without `streamlit run`\n",
      "2024-04-26 22:52:00.821 \n",
      "  \u001b[33m\u001b[1mWarning:\u001b[0m to view this Streamlit app on a browser, run it with the following\n",
      "  command:\n",
      "\n",
      "    streamlit run /Users/dili/anaconda3/lib/python3.10/site-packages/ipykernel_launcher.py [ARGUMENTS]\n"
     ]
    }
   ],
   "source": [
    "#!pip install streamlit pypdf2 langchain python-dotenv faiss-cpu openai huggingface_hub langchain\n",
    "import streamlit as st\n",
    "from dotenv import load_dotenv\n",
    "from PyPDF2 import PdfReader\n",
    "from langchain.text_splitter import CharacterTextSplitter\n",
    "from langchain.embeddings import OpenAIEmbeddings\n",
    "from langchain.vectorstores import FAISS\n",
    "from langchain.chat_models import ChatOpenAI\n",
    "from langchain.memory import ConversationBufferMemory\n",
    "from langchain.chains import ConversationalRetrievalChain\n",
    "\n",
    "\n",
    "\n",
    "def get_pdf_text(pdf_docs):\n",
    "\n",
    "    text: str = ''\n",
    "    for pdf in pdf_docs:\n",
    "        pdf_reader = PdfReader(pdf)\n",
    "        for page in pdf_reader.pages:\n",
    "            text += page.extract_text()\n",
    "    return text\n",
    "\n",
    "def get_text_chunks(text):\n",
    "    text_splitter = CharacterTextSplitter(\n",
    "        separator=\"\\n\",\n",
    "        chunk_size=1000,\n",
    "        chunk_overlap=200,\n",
    "        length_function=len\n",
    "    )\n",
    "    chunks= text_splitter.split_text(text)\n",
    "    return chunks\n",
    "\n",
    "def get_vectorstore(text_chunks):\n",
    "    embeddings = OpenAIEmbeddings()\n",
    "    vectorstore = FAISS.from_texts(texts=text_chunks, embedding=embeddings)\n",
    "    return vectorstore\n",
    "\n",
    "def get_conversation_chain(vectorstore):\n",
    "    llm = ChatOpenAI()\n",
    "    memory = ConversationBufferMemory(memory_key='chat_history', return_messages=True)\n",
    "    conversation_chain = ConversationalRetrievalChain.from_llm(\n",
    "        llm=llm,\n",
    "        retriever=vectorstore.as_retriever(),\n",
    "        memory=memory\n",
    "    )\n",
    "    return conversation_chain\n",
    "\n",
    "def handle_userinput(user_question):\n",
    "    response = st.session_state.conversation({'question':user_question})\n",
    "    st.session_state.chat_history = response['chat_history']\n",
    "    for i, message in enumerate(st.session_state.chat_history):\n",
    "        if i%2 ==0:\n",
    "            st.write(f'Human Question: {message.content}')\n",
    "        else:\n",
    "            st.write(f'AI Response: {message.content}')\n",
    "\n",
    "        \n",
    "def main():\n",
    "    load_dotenv()\n",
    "    st.set_page_config(page_title=\"Chat with PDFs\", page_icon=\":scalpel:\")\n",
    "\n",
    "    if \"conversation\" not in st.session_state:\n",
    "        st.session_state.conversation = None\n",
    "    if \"chat_history\" not in st.session_state:\n",
    "        st.session_state.chat_history= None\n",
    "\n",
    "    st.header(\"Chat with PDFs :medical_symbol:\")\n",
    "    user_question = st.text_input(\"Ask a question about your documents:\")\n",
    "    if user_question:\n",
    "        handle_userinput(user_question)\n",
    "\n",
    "    with st.sidebar:\n",
    "        st.subheader(\"Your documents\")\n",
    "        pdf_docs = st.file_uploader(\"Upload your PDFs here and click on 'Process'\", accept_multiple_files=True)\n",
    "        if st.button('Process'):\n",
    "            with st.spinner(\"Processing...\"):\n",
    "\n",
    "            #get pdf texts\n",
    "                raw_text = get_pdf_text(pdf_docs)\n",
    "                #st.write(raw_text)\n",
    "\n",
    "            #chunk pdfs\n",
    "                text_chunks = get_text_chunks(raw_text)\n",
    "                #st.write(text_chunks)\n",
    "\n",
    "            #create vector store with embeddings\n",
    "                vectorstore = get_vectorstore(text_chunks)\n",
    "\n",
    "            # create conversation chain\n",
    "                st.session_state.conversation = get_conversation_chain(vectorstore)\n",
    "\n",
    "\n",
    "if __name__=='__main__':\n",
    "    main()\n"
   ]
  },
  {
   "cell_type": "markdown",
   "metadata": {},
   "source": [
    "#### 1. Paper given: Research paper on marijuana legalization\n",
    "\n",
    "**Query**: What was the main aim of the paper. List the methology, question, data used and how the data was constructed, as well as the findings and potential next steps\n",
    "\n",
    "**AI Response**: The main aim of the paper was to estimate the effects of both recreational and medical marijuana legalization on hard drug use and DUIs, specifically in counties bordering states with marijuana laws.\n",
    "\n",
    "Methodology:\n",
    "\n",
    "The study used a difference-in-differences design.\n",
    "Implemented a robust identification strategy to control for county-linear time trends.\n",
    "Standard errors were clustered at the county level to address concerns related to county-level confounding.\n",
    "Question:\n",
    "\n",
    "The study aimed to understand the impact of marijuana laws on possession of hard drugs, possession of marijuana, and DUI cases in counties bordering states with marijuana laws.\n",
    "Data Used and Data Construction:\n",
    "\n",
    "Data sources included the Uniform Crime Reports and the US Census Bureau.\n",
    "The data was constructed to focus on arrests by county.\n",
    "The study used county-by-year fixed effects to control for unobserved time-varying effects at the county level.\n",
    "Findings:\n",
    "\n",
    "Counties bordering states with any marijuana law experienced an increase in hard drug arrests following the enactment of marijuana laws.\n",
    "No conclusive evidence was found for an effect on possession of marijuana or DUI cases in the study.\n",
    "Potential Next Steps:\n",
    "\n",
    "The study recommended that future research should include additional controls to account for potential biases, such as the level of police activity in counties bordering legalized states.\n",
    "Exploring the impact of marijuana laws on other types of crimes or behaviors could be a potential next step.\n",
    "\n",
    "`Remark`: They are correct"
   ]
  },
  {
   "cell_type": "markdown",
   "metadata": {},
   "source": [
    "#### 2. Paper given: My resume\n",
    "\n",
    "**Query**: Where did this person work as of 2024\n",
    "\n",
    "**AI Response**: As of 2024, this person worked as a Graduate Research Assistant at Yale University under Dr. Jonas Lieber.\n",
    "\n",
    "`Remark`: They are correct"
   ]
  },
  {
   "cell_type": "markdown",
   "metadata": {},
   "source": [
    "#### 3. Paper given: Lecture note on expenditure function\n",
    "\n",
    "**Query**: Give a short overview of the expenditure function, include equations and additional information I may need to know to understand\n",
    "Human Question: Give a short overview of the expenditure function, include equations and additional information I may need to know to understand\n",
    "\n",
    "**AI Response**: The expenditure function is a concept in economics that tells us the minimum amount of money (expenditure) needed to achieve a given level of utility. It is derived from the consumer's problem of minimizing total expenditure on goods while attaining a specific utility level. The expenditure function is denoted as E(px, py, Uo), where px and py are the prices of goods x and y, and Uo is the utility level.\n",
    "\n",
    "Formally, the expenditure function is derived by solving the dual consumer's problem using a Lagrangian with the constraint U(x, y) = Uo. This is a minimization problem where the objective is to minimize pxx + pyy subject to the utility constraint. The Lagrange multiplier helps find the correct expenditure amount.\n",
    "\n",
    "The expenditure function is important in welfare economics as it helps determine the compensation needed to restore an original level of utility. It is homogenous of degree one in prices (px, py) and can be used to calculate the minimum expenditure required for different utility levels. The Envelope Theorem is also used to understand the relationship between the expenditure function and Hicksian demands.\n",
    "\n",
    "`Remark`: Pretty good, but I had to run it 3 times! The first 2 times, the response was \"I don't know\""
   ]
  },
  {
   "cell_type": "markdown",
   "metadata": {},
   "source": [
    "#### 4. Paper given: Syllabus on my machine learning in economics class\n",
    "\n",
    "**Querty**: What are the things I am going to learn in my machine learning in economics class\n",
    "\n",
    "**AI Response**: Dili Maduabum's coursework in Machine Learning likely covers topics such as regression analysis, classification algorithms, clustering techniques, neural networks, decision trees, and more. However, the specific topics covered in their Machine Learning in Economics class at Yale University are not explicitly mentioned in the provided context.\n",
    "\n",
    "`Remark`: I would have preferred more detail but I wasn't detailed either so it did okay."
   ]
  },
  {
   "cell_type": "markdown",
   "metadata": {},
   "source": [
    "#### 5. Paper given: \"Social Networks and the Dynamics of Labour Market Outcomes: Evidence from Refugees Resettled in the U.S. \" by Lori Beaman \n",
    "\n",
    "**Querty**: Explain the mathematical model used in Social Networks and the Dynamics of Labour Market Outcome. Derive the steps\n",
    "\n",
    "**AI Response**: I don't have access to the specific mathematical model used in the study \"Social Networks and the Dynamics of Labour Market Outcomes: Evidence from Refugees Resettled in the U.S.\" by Lori Beaman. The study discusses a theoretical model of job information transmission that shows the relationship between social network size and labour market outcomes, emphasizing that the impact can vary for different cohorts within the network. The model suggests that an increase in network size may have negative effects on some groups while benefiting others. To test this prediction, the study utilized data on political refugees resettled in the U.S.\n",
    "\n",
    "The research focused on how social networks influence access to local labor markets for refugees, emphasizing the importance of the size and structure of the network, particularly the length of tenure of network members in the U.S. The study found that while network architecture can improve labour market outcomes through information transmission, there is also a competitive effect within the network that negatively impacts outcomes. The study highlights the dynamic relationship between employment, wages, and social network structure, suggesting that understanding the tenure composition and other structural dimensions of social networks is crucial in assessing their full effect on labor market outcomes.\n",
    "\n",
    "`Remark`: It is spot on for the finding, but was not good with the math. This will be very helpful for literature reviews"
   ]
  }
 ],
 "metadata": {
  "colab": {
   "provenance": []
  },
  "kernelspec": {
   "display_name": "Python 3 (ipykernel)",
   "language": "python",
   "name": "python3"
  },
  "language_info": {
   "codemirror_mode": {
    "name": "ipython",
    "version": 3
   },
   "file_extension": ".py",
   "mimetype": "text/x-python",
   "name": "python",
   "nbconvert_exporter": "python",
   "pygments_lexer": "ipython3",
   "version": "3.10.9"
  }
 },
 "nbformat": 4,
 "nbformat_minor": 4
}
